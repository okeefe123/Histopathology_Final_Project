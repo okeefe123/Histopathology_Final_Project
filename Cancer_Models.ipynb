{
 "cells": [
  {
   "cell_type": "markdown",
   "id": "24c44cea-b869-4e36-b0ee-5a8d80b2edb8",
   "metadata": {},
   "source": [
    "Cancer Detection\n",
    "===="
   ]
  },
  {
   "cell_type": "code",
   "execution_count": 1,
   "id": "4d20494f-42f7-4f2c-93ea-8661e7f62cf8",
   "metadata": {},
   "outputs": [],
   "source": [
    "#%pip install -U ipywidgets"
   ]
  },
  {
   "cell_type": "code",
   "execution_count": 1,
   "id": "pediatric-castle",
   "metadata": {},
   "outputs": [],
   "source": [
    "import os\n",
    "import cv2\n",
    "import time\n",
    "import pickle\n",
    "import numpy as np\n",
    "import pandas as pd\n",
    "from tqdm.notebook import tqdm\n",
    "from datetime import date\n",
    "import matplotlib.pyplot as plt\n",
    "plt.style.use('ggplot')\n",
    "\n",
    "from sklearn.model_selection import train_test_split\n",
    "\n",
    "import torch\n",
    "from torch.utils.data import Dataset, DataLoader\n",
    "import torch.nn as nn\n",
    "import torch.optim as optim\n",
    "\n",
    "# data augmentation\n",
    "import albumentations as A\n",
    "\n",
    "from albumentations.pytorch import ToTensorV2\n",
    "\n",
    "# pretrained models\n",
    "import torchvision\n",
    "from torchvision import models, transforms\n",
    "\n",
    "from tqdm.notebook import tqdm\n",
    "\n"
   ]
  },
  {
   "cell_type": "markdown",
   "id": "53c332d9-5dc6-4359-a9a3-d6f35b7d2e8a",
   "metadata": {},
   "source": [
    "Importing the data\n",
    "===="
   ]
  },
  {
   "cell_type": "code",
   "execution_count": 2,
   "id": "fresh-clear",
   "metadata": {},
   "outputs": [
    {
     "name": "stdout",
     "output_type": "stream",
     "text": [
      "lung_aca\n",
      "lung_n\n",
      "lung_scc\n",
      "colon_n\n",
      "colon_aca\n",
      "24999\n"
     ]
    },
    {
     "data": {
      "text/html": [
       "<div>\n",
       "<style scoped>\n",
       "    .dataframe tbody tr th:only-of-type {\n",
       "        vertical-align: middle;\n",
       "    }\n",
       "\n",
       "    .dataframe tbody tr th {\n",
       "        vertical-align: top;\n",
       "    }\n",
       "\n",
       "    .dataframe thead th {\n",
       "        text-align: right;\n",
       "    }\n",
       "</style>\n",
       "<table border=\"1\" class=\"dataframe\">\n",
       "  <thead>\n",
       "    <tr style=\"text-align: right;\">\n",
       "      <th></th>\n",
       "      <th>image_file</th>\n",
       "      <th>label</th>\n",
       "      <th>image_path</th>\n",
       "    </tr>\n",
       "  </thead>\n",
       "  <tbody>\n",
       "    <tr>\n",
       "      <th>0</th>\n",
       "      <td>lungaca1843.jpeg</td>\n",
       "      <td>lung_aca</td>\n",
       "      <td>/home/oniemann/Cancer_Classifier/lung_colon_im...</td>\n",
       "    </tr>\n",
       "    <tr>\n",
       "      <th>1</th>\n",
       "      <td>lungaca294.jpeg</td>\n",
       "      <td>lung_aca</td>\n",
       "      <td>/home/oniemann/Cancer_Classifier/lung_colon_im...</td>\n",
       "    </tr>\n",
       "    <tr>\n",
       "      <th>2</th>\n",
       "      <td>lungaca3487.jpeg</td>\n",
       "      <td>lung_aca</td>\n",
       "      <td>/home/oniemann/Cancer_Classifier/lung_colon_im...</td>\n",
       "    </tr>\n",
       "    <tr>\n",
       "      <th>3</th>\n",
       "      <td>lungaca4342.jpeg</td>\n",
       "      <td>lung_aca</td>\n",
       "      <td>/home/oniemann/Cancer_Classifier/lung_colon_im...</td>\n",
       "    </tr>\n",
       "    <tr>\n",
       "      <th>4</th>\n",
       "      <td>lungaca1140.jpeg</td>\n",
       "      <td>lung_aca</td>\n",
       "      <td>/home/oniemann/Cancer_Classifier/lung_colon_im...</td>\n",
       "    </tr>\n",
       "  </tbody>\n",
       "</table>\n",
       "</div>"
      ],
      "text/plain": [
       "         image_file     label  \\\n",
       "0  lungaca1843.jpeg  lung_aca   \n",
       "1   lungaca294.jpeg  lung_aca   \n",
       "2  lungaca3487.jpeg  lung_aca   \n",
       "3  lungaca4342.jpeg  lung_aca   \n",
       "4  lungaca1140.jpeg  lung_aca   \n",
       "\n",
       "                                          image_path  \n",
       "0  /home/oniemann/Cancer_Classifier/lung_colon_im...  \n",
       "1  /home/oniemann/Cancer_Classifier/lung_colon_im...  \n",
       "2  /home/oniemann/Cancer_Classifier/lung_colon_im...  \n",
       "3  /home/oniemann/Cancer_Classifier/lung_colon_im...  \n",
       "4  /home/oniemann/Cancer_Classifier/lung_colon_im...  "
      ]
     },
     "execution_count": 2,
     "metadata": {},
     "output_type": "execute_result"
    }
   ],
   "source": [
    "data_path = '/home/oniemann/Cancer_Classifier/lung_colon_image_set/'\n",
    "\n",
    "rows = []\n",
    "\n",
    "for c_type in os.listdir(data_path):\n",
    "    for label in os.listdir(data_path + f'/{c_type}'):\n",
    "        print(label)\n",
    "        for image in os.listdir(data_path + f'/{c_type}/{label}'):\n",
    "            row = dict()\n",
    "            row['image_file'] = image\n",
    "            row['label'] = label\n",
    "\n",
    "            # a bit redudant, could build from other data in __getitem__ if wanted\n",
    "            row['image_path'] = data_path + f'/{c_type}/{label}'\n",
    "            if '.jpeg' in row['image_file']:\n",
    "                rows.append(row)\n",
    "        \n",
    "df = pd.DataFrame(rows[1:])\n",
    "df['image_path'] = df['image_path'].map(lambda x: x.replace(\"//\", \"/\"))\n",
    "print(len(df))\n",
    "df.head()"
   ]
  },
  {
   "cell_type": "code",
   "execution_count": 3,
   "id": "83c99116-9e20-462d-986b-f806de57ad8f",
   "metadata": {},
   "outputs": [
    {
     "data": {
      "text/plain": [
       "lung_n       5000\n",
       "colon_n      5000\n",
       "lung_scc     5000\n",
       "colon_aca    5000\n",
       "lung_aca     4999\n",
       "Name: label, dtype: int64"
      ]
     },
     "execution_count": 3,
     "metadata": {},
     "output_type": "execute_result"
    }
   ],
   "source": [
    "df.label.value_counts()"
   ]
  },
  {
   "cell_type": "markdown",
   "id": "2669c53c-a0b1-49c3-986e-b42e44276369",
   "metadata": {},
   "source": [
    "# Create Augmented Dataset\n",
    "\n",
    "- crop\n",
    "\n",
    "- horizontal/vertical reflection\n",
    "\n",
    "- rotation\n",
    "\n",
    "- brightness contrast"
   ]
  },
  {
   "cell_type": "code",
   "execution_count": 4,
   "id": "intimate-contest",
   "metadata": {},
   "outputs": [],
   "source": [
    "class CancerImagesDataset(Dataset):\n",
    "    def __init__(self, df):\n",
    "        self.df = df\n",
    "        \n",
    "        self.label_dict = {label:idx for idx, label in enumerate(df.label.unique())}\n",
    "        \n",
    "        # Randomly augment images for variety\n",
    "        self.transforms = A.Compose([\n",
    "            # spatial transforms\n",
    "            A.RandomCrop(width=255, height=255),\n",
    "            A.HorizontalFlip(p=.5),\n",
    "            A.VerticalFlip(p=.5),\n",
    "            A.Rotate(limit = 10, \n",
    "                     border_mode = cv2.BORDER_CONSTANT, \n",
    "                     value = 0.0, p = .75),\n",
    "\n",
    "            # pixel-level transformation\n",
    "            A.RandomBrightnessContrast(p=0.1),\n",
    "\n",
    "            # we will normalize according to ImageNet since we will be using a pre-trained ResNet\n",
    "            # this adjusts from [0,255] to [0,1]\n",
    "            A.Normalize(mean=(0.485, 0.456, 0.406), std=(0.229, 0.224, 0.225)),\n",
    "\n",
    "            # convert to a tensor and move color channels\n",
    "            ToTensorV2()\n",
    "        ])\n",
    "        \n",
    "    def __len__(self):\n",
    "        return len(self.df)\n",
    "    \n",
    "    def __getitem__(self, idx):\n",
    "        row = self.df.iloc[idx]\n",
    "        \n",
    "        path = row['image_path'] + f\"/{row['image_file']}\"\n",
    "\n",
    "        img = cv2.imread(path)\n",
    "\n",
    "        #img = cv2.cvtColor(img, cv2.COLOR_BGR2RGB)\n",
    "        \n",
    "        transformed = self.transforms(image=img.astype(np.uint8))\n",
    "        img = transformed['image']\n",
    "        \n",
    "        #Scale to v\n",
    "        img = ((img - img.min()) / (img.max()-img.min()))\n",
    "        \n",
    "        label = torch.tensor(self.label_dict[row['label']])\n",
    "        \n",
    "        return img, label"
   ]
  },
  {
   "cell_type": "code",
   "execution_count": 5,
   "id": "b29025e7-b5d8-4c7d-8566-6d161fcfba1d",
   "metadata": {},
   "outputs": [
    {
     "name": "stdout",
     "output_type": "stream",
     "text": [
      "/home/oniemann/Cancer_Classifier\n"
     ]
    }
   ],
   "source": [
    "!pwd"
   ]
  },
  {
   "cell_type": "code",
   "execution_count": 6,
   "id": "challenging-minimum",
   "metadata": {},
   "outputs": [
    {
     "name": "stdout",
     "output_type": "stream",
     "text": [
      "lung_aca\n"
     ]
    },
    {
     "data": {
      "image/png": "[encoded data removed]",
      "text/plain": [
       "<Figure size 432x288 with 1 Axes>"
      ]
     },
     "metadata": {},
     "output_type": "display_data"
    }
   ],
   "source": [
    "# Example\n",
    "ds = CancerImagesDataset(df)\n",
    "translate_back = {v:k for k, v in ds.label_dict.items()}\n",
    "img = np.transpose(ds[1994][0], (1, 2, 0))\n",
    "print(translate_back[ds[1994][1].item()])\n",
    "plt.imshow(img);"
   ]
  },
  {
   "cell_type": "markdown",
   "id": "8fc9fbdb-2475-473b-a265-505d7a4e8008",
   "metadata": {},
   "source": [
    "- Create data loaders for train/test split"
   ]
  },
  {
   "cell_type": "code",
   "execution_count": 7,
   "id": "detected-blank",
   "metadata": {},
   "outputs": [],
   "source": [
    "batch_size = 16\n",
    "\n",
    "df_train, df_test = train_test_split(df)\n",
    "df_train, df_valid = train_test_split(df_train)\n",
    "\n",
    "ds_train = CancerImagesDataset(df_train)\n",
    "ds_valid = CancerImagesDataset(df_valid)\n",
    "\n",
    "dl_train = DataLoader(ds_train, batch_size = batch_size, shuffle=True)\n",
    "dl_valid = DataLoader(ds_valid, batch_size = batch_size, shuffle=False)"
   ]
  },
  {
   "cell_type": "markdown",
   "id": "norwegian-diagram",
   "metadata": {},
   "source": [
    "# Identify Best Pretrained CNN Model:\n",
    "\n",
    "- The following code was used to test different baseline models from the torchvision model library.\n",
    "- Models tested: resnet18, densenet121, mobilenet_v2, alexnet"
   ]
  },
  {
   "cell_type": "code",
   "execution_count": 10,
   "id": "26df57f5-b3fa-4078-8712-a71ff7c93b58",
   "metadata": {
    "collapsed": true,
    "jupyter": {
     "outputs_hidden": true
    },
    "tags": []
   },
   "outputs": [
    {
     "data": {
      "text/plain": [
       "['AlexNet',\n",
       " 'DenseNet',\n",
       " 'GoogLeNet',\n",
       " 'GoogLeNetOutputs',\n",
       " 'Inception3',\n",
       " 'InceptionOutputs',\n",
       " 'MNASNet',\n",
       " 'MobileNetV2',\n",
       " 'MobileNetV3',\n",
       " 'ResNet',\n",
       " 'ShuffleNetV2',\n",
       " 'SqueezeNet',\n",
       " 'VGG',\n",
       " '_GoogLeNetOutputs',\n",
       " '_InceptionOutputs',\n",
       " '__builtins__',\n",
       " '__cached__',\n",
       " '__doc__',\n",
       " '__file__',\n",
       " '__loader__',\n",
       " '__name__',\n",
       " '__package__',\n",
       " '__path__',\n",
       " '__spec__',\n",
       " '_utils',\n",
       " 'alexnet',\n",
       " 'densenet',\n",
       " 'densenet121',\n",
       " 'densenet161',\n",
       " 'densenet169',\n",
       " 'densenet201',\n",
       " 'detection',\n",
       " 'googlenet',\n",
       " 'inception',\n",
       " 'inception_v3',\n",
       " 'mnasnet',\n",
       " 'mnasnet0_5',\n",
       " 'mnasnet0_75',\n",
       " 'mnasnet1_0',\n",
       " 'mnasnet1_3',\n",
       " 'mobilenet',\n",
       " 'mobilenet_v2',\n",
       " 'mobilenet_v3_large',\n",
       " 'mobilenet_v3_small',\n",
       " 'mobilenetv2',\n",
       " 'mobilenetv3',\n",
       " 'quantization',\n",
       " 'resnet',\n",
       " 'resnet101',\n",
       " 'resnet152',\n",
       " 'resnet18',\n",
       " 'resnet34',\n",
       " 'resnet50',\n",
       " 'resnext101_32x8d',\n",
       " 'resnext50_32x4d',\n",
       " 'segmentation',\n",
       " 'shufflenet_v2_x0_5',\n",
       " 'shufflenet_v2_x1_0',\n",
       " 'shufflenet_v2_x1_5',\n",
       " 'shufflenet_v2_x2_0',\n",
       " 'shufflenetv2',\n",
       " 'squeezenet',\n",
       " 'squeezenet1_0',\n",
       " 'squeezenet1_1',\n",
       " 'utils',\n",
       " 'vgg',\n",
       " 'vgg11',\n",
       " 'vgg11_bn',\n",
       " 'vgg13',\n",
       " 'vgg13_bn',\n",
       " 'vgg16',\n",
       " 'vgg16_bn',\n",
       " 'vgg19',\n",
       " 'vgg19_bn',\n",
       " 'video',\n",
       " 'wide_resnet101_2',\n",
       " 'wide_resnet50_2']"
      ]
     },
     "execution_count": 10,
     "metadata": {},
     "output_type": "execute_result"
    }
   ],
   "source": [
    "dir(models)"
   ]
  },
  {
   "cell_type": "code",
   "execution_count": 12,
   "id": "allied-brass",
   "metadata": {
    "tags": []
   },
   "outputs": [],
   "source": [
    "today = str(date.today())\n",
    "model = models.densenet121(pretrained=True)\n",
    "model.classifier = nn.Linear(1024, 5, bias=True)"
   ]
  },
  {
   "cell_type": "markdown",
   "id": "02ca1d12-a9ce-407f-b6a1-36126f71b7ff",
   "metadata": {
    "jupyter": {
     "outputs_hidden": true
    },
    "tags": []
   },
   "source": [
    "## model"
   ]
  },
  {
   "cell_type": "code",
   "execution_count": 14,
   "id": "bibliographic-equivalent",
   "metadata": {
    "tags": []
   },
   "outputs": [],
   "source": [
    "# from torchsummary import summary\n",
    "# summary(model, input_size = (3, 400, 400), device='cpu')"
   ]
  },
  {
   "cell_type": "code",
   "execution_count": 15,
   "id": "informational-punch",
   "metadata": {
    "tags": []
   },
   "outputs": [],
   "source": [
    "# for param in resnet.parameters():\n",
    "#             param.requires_grad = False\n",
    "        \n",
    "# resnet.fc = nn.Linear(512, 4, bias = True)\n",
    "\n",
    "# for name, param in resnet.named_parameters():\n",
    "#     print(f\"{name} gradient is set to\", param.requires_grad)"
   ]
  },
  {
   "cell_type": "code",
   "execution_count": 16,
   "id": "b7f50bd1-6acc-41de-bde8-f864c24bc737",
   "metadata": {},
   "outputs": [],
   "source": [
    "!cd models"
   ]
  },
  {
   "cell_type": "code",
   "execution_count": 28,
   "id": "fce4a261-293d-4a6f-97de-ffa7ce2f7d63",
   "metadata": {
    "collapsed": true,
    "jupyter": {
     "outputs_hidden": true,
     "source_hidden": true
    },
    "tags": []
   },
   "outputs": [
    {
     "name": "stdout",
     "output_type": "stream",
     "text": [
      "mkdir: cannot create directory ‘/home/oniemann/Cancer_Classifier/models/densenet121’: File exists\n",
      "mkdir: cannot create directory ‘/home/oniemann/Cancer_Classifier/models/densenet121/model_checkpoints’: File exists\n"
     ]
    }
   ],
   "source": [
    "directory = 'densenet121'\n",
    "!mkdir /home/oniemann/Cancer_Classifier/models/$directory\n",
    "!mkdir /home/oniemann/Cancer_Classifier/models/$directory/model_checkpoints"
   ]
  },
  {
   "cell_type": "markdown",
   "id": "eight-binding",
   "metadata": {},
   "source": [
    "# Training Loop"
   ]
  },
  {
   "cell_type": "code",
   "execution_count": 26,
   "id": "077dc6ca-484c-4150-b9ce-94530b80f395",
   "metadata": {
    "tags": []
   },
   "outputs": [
    {
     "data": {
      "text/plain": [
       "True"
      ]
     },
     "execution_count": 26,
     "metadata": {},
     "output_type": "execute_result"
    }
   ],
   "source": [
    "torch.cuda.is_available()\n",
    "#!nvidia-smi"
   ]
  },
  {
   "cell_type": "code",
   "execution_count": 25,
   "id": "7f0bc22d-989f-4a3b-af7d-0b280f7820c1",
   "metadata": {
    "tags": []
   },
   "outputs": [
    {
     "name": "stdout",
     "output_type": "stream",
     "text": [
      "model successfully made it onto GPU\n"
     ]
    }
   ],
   "source": [
    "device = torch.device(0)\n",
    "model.to(device)\n",
    "print(\"model successfully made it onto GPU\")"
   ]
  },
  {
   "cell_type": "code",
   "execution_count": 7,
   "id": "successful-murray",
   "metadata": {},
   "outputs": [],
   "source": [
    "def one_pass(model, dataloader, optimizer, lossFun, lrs, idx, backwards=True, print_loss=False):\n",
    "    if backwards == True:\n",
    "        model.train()\n",
    "    else:\n",
    "        model.eval()\n",
    "    \n",
    "    total_loss = 0.0\n",
    "    for x, y in tqdm(dataloader):\n",
    "        #if backwards == True:\n",
    "            #lr = lrs[idx]\n",
    "            #update_optimizer(optimizer, lr)\n",
    "            \n",
    "        x, y = x.to(device), y.to(device)\n",
    "        \n",
    "        y_pred = model(x)\n",
    "        loss = lossFun(y_pred, y)\n",
    "        total_loss += loss.item()\n",
    "        \n",
    "        if backwards == True:\n",
    "            optimizer.zero_grad()\n",
    "            loss.backward()\n",
    "            optimizer.step()\n",
    "            idx += 1\n",
    "            \n",
    "    avg_loss = total_loss / len(dataloader)\n",
    "    \n",
    "    if print_loss == True:\n",
    "        print(avg_loss)\n",
    "    \n",
    "    return avg_loss, idx\n",
    "\n",
    "def one_pass_acc(model, dataloader, num_points):\n",
    "    model.eval()\n",
    "    total_incorrect = 0\n",
    "    \n",
    "    softmax = nn.LogSoftmax(dim=1)\n",
    "    \n",
    "    for x, y in dataloader:\n",
    "        x, y = x.to(device), y.to(device)\n",
    "        y_pred = softmax(model(x))\n",
    "        y_pred = torch.argmax(y_pred, dim=1)\n",
    "        \n",
    "        total_incorrect += torch.count_nonzero(y - y_pred).item()\n",
    "        \n",
    "    percent_wrong = total_incorrect / num_points\n",
    "    return 1 - percent_wrong"
   ]
  },
  {
   "cell_type": "markdown",
   "id": "f21d6dbf-2810-4b62-a573-4a8d5ff61b48",
   "metadata": {},
   "source": [
    "# Training the Single Multi-Class Model:\n",
    "\n",
    "- The following cells were used to both identify the best pretrained baseline model and act as a representative for future baseline multi-class tasks"
   ]
  },
  {
   "cell_type": "code",
   "execution_count": 31,
   "id": "82f5cb77-da2c-4242-804c-5cd4630e451c",
   "metadata": {
    "collapsed": true,
    "jupyter": {
     "outputs_hidden": true
    },
    "tags": []
   },
   "outputs": [
    {
     "data": {
      "application/vnd.jupyter.widget-view+json": {
       "model_id": "2e7f4ea4499d4964bef21f86b8c7fe2d",
       "version_major": 2,
       "version_minor": 0
      },
      "text/plain": [
       "0it [00:00, ?it/s]"
      ]
     },
     "metadata": {},
     "output_type": "display_data"
    },
    {
     "name": "stdout",
     "output_type": "stream",
     "text": [
      "Epoch:  0\n"
     ]
    },
    {
     "data": {
      "application/vnd.jupyter.widget-view+json": {
       "model_id": "08b2ef1cbe9f4bc28ba29af1c3936780",
       "version_major": 2,
       "version_minor": 0
      },
      "text/plain": [
       "  0%|          | 0/879 [00:00<?, ?it/s]"
      ]
     },
     "metadata": {},
     "output_type": "display_data"
    },
    {
     "name": "stdout",
     "output_type": "stream",
     "text": [
      "Train loss:  0.7565150805945011\n"
     ]
    },
    {
     "data": {
      "application/vnd.jupyter.widget-view+json": {
       "model_id": "ffd94b0460ea42ee99caeab6072f708c",
       "version_major": 2,
       "version_minor": 0
      },
      "text/plain": [
       "  0%|          | 0/293 [00:00<?, ?it/s]"
      ]
     },
     "metadata": {},
     "output_type": "display_data"
    },
    {
     "name": "stdout",
     "output_type": "stream",
     "text": [
      "Valid loss:  7.847371351189988\n",
      "Train Acc:  0.6966787568451747\n",
      "Valid Acc:  0.028156996587030747\n",
      "Epoch:  1\n"
     ]
    },
    {
     "data": {
      "application/vnd.jupyter.widget-view+json": {
       "model_id": "72033a615af5483b84c34993c9080398",
       "version_major": 2,
       "version_minor": 0
      },
      "text/plain": [
       "  0%|          | 0/879 [00:00<?, ?it/s]"
      ]
     },
     "metadata": {},
     "output_type": "display_data"
    },
    {
     "name": "stdout",
     "output_type": "stream",
     "text": [
      "Train loss:  0.4525623443420972\n"
     ]
    },
    {
     "data": {
      "application/vnd.jupyter.widget-view+json": {
       "model_id": "a3f5ab0c96124945b9cd70ee98bd2408",
       "version_major": 2,
       "version_minor": 0
      },
      "text/plain": [
       "  0%|          | 0/293 [00:00<?, ?it/s]"
      ]
     },
     "metadata": {},
     "output_type": "display_data"
    },
    {
     "name": "stdout",
     "output_type": "stream",
     "text": [
      "Valid loss:  8.709438563206904\n",
      "Train Acc:  0.8517175165350971\n",
      "Valid Acc:  0.1772610921501706\n",
      "Epoch:  2\n"
     ]
    },
    {
     "data": {
      "application/vnd.jupyter.widget-view+json": {
       "model_id": "0d3947f3893e4ed5ad0f62fe513dc1e4",
       "version_major": 2,
       "version_minor": 0
      },
      "text/plain": [
       "  0%|          | 0/879 [00:00<?, ?it/s]"
      ]
     },
     "metadata": {},
     "output_type": "display_data"
    },
    {
     "name": "stdout",
     "output_type": "stream",
     "text": [
      "Train loss:  0.3726421116901068\n"
     ]
    },
    {
     "data": {
      "application/vnd.jupyter.widget-view+json": {
       "model_id": "4b22e9a51c76418aa6e976c8f23dee80",
       "version_major": 2,
       "version_minor": 0
      },
      "text/plain": [
       "  0%|          | 0/293 [00:00<?, ?it/s]"
      ]
     },
     "metadata": {},
     "output_type": "display_data"
    },
    {
     "name": "stdout",
     "output_type": "stream",
     "text": [
      "Valid loss:  10.23386074984033\n",
      "Train Acc:  0.7811677690064718\n",
      "Valid Acc:  0.09087030716723554\n",
      "Epoch:  3\n"
     ]
    },
    {
     "data": {
      "application/vnd.jupyter.widget-view+json": {
       "model_id": "0b9a842ea5bd44c0930391f91d45b302",
       "version_major": 2,
       "version_minor": 0
      },
      "text/plain": [
       "  0%|          | 0/879 [00:00<?, ?it/s]"
      ]
     },
     "metadata": {},
     "output_type": "display_data"
    },
    {
     "name": "stdout",
     "output_type": "stream",
     "text": [
      "Train loss:  0.3475946295493631\n"
     ]
    },
    {
     "data": {
      "application/vnd.jupyter.widget-view+json": {
       "model_id": "037119c2bfd342409b3f462feb20c4ef",
       "version_major": 2,
       "version_minor": 0
      },
      "text/plain": [
       "  0%|          | 0/293 [00:00<?, ?it/s]"
      ]
     },
     "metadata": {},
     "output_type": "display_data"
    },
    {
     "name": "stdout",
     "output_type": "stream",
     "text": [
      "Valid loss:  10.436436739391027\n",
      "Train Acc:  0.8229855629044875\n",
      "Valid Acc:  0.1710750853242321\n",
      "Epoch:  4\n"
     ]
    },
    {
     "data": {
      "application/vnd.jupyter.widget-view+json": {
       "model_id": "57e6cf9f6bc14330aed4deef6fc7b072",
       "version_major": 2,
       "version_minor": 0
      },
      "text/plain": [
       "  0%|          | 0/879 [00:00<?, ?it/s]"
      ]
     },
     "metadata": {},
     "output_type": "display_data"
    },
    {
     "name": "stdout",
     "output_type": "stream",
     "text": [
      "Train loss:  0.32152573057620937\n"
     ]
    },
    {
     "data": {
      "application/vnd.jupyter.widget-view+json": {
       "model_id": "353f51b12ed749fb921f3fada828c19b",
       "version_major": 2,
       "version_minor": 0
      },
      "text/plain": [
       "  0%|          | 0/293 [00:00<?, ?it/s]"
      ]
     },
     "metadata": {},
     "output_type": "display_data"
    },
    {
     "name": "stdout",
     "output_type": "stream",
     "text": [
      "Valid loss:  11.615591351896423\n",
      "Train Acc:  0.824407936846597\n",
      "Valid Acc:  0.1715017064846417\n",
      "Epoch:  5\n"
     ]
    },
    {
     "data": {
      "application/vnd.jupyter.widget-view+json": {
       "model_id": "ea80aaf1d37241858a2e028963220a48",
       "version_major": 2,
       "version_minor": 0
      },
      "text/plain": [
       "  0%|          | 0/879 [00:00<?, ?it/s]"
      ]
     },
     "metadata": {},
     "output_type": "display_data"
    },
    {
     "name": "stdout",
     "output_type": "stream",
     "text": [
      "Train loss:  0.30416974107882133\n"
     ]
    },
    {
     "data": {
      "application/vnd.jupyter.widget-view+json": {
       "model_id": "8450aaa102e64c298220ab2f293e71d2",
       "version_major": 2,
       "version_minor": 0
      },
      "text/plain": [
       "  0%|          | 0/293 [00:00<?, ?it/s]"
      ]
     },
     "metadata": {},
     "output_type": "display_data"
    },
    {
     "name": "stdout",
     "output_type": "stream",
     "text": [
      "Valid loss:  10.56379355993694\n",
      "Train Acc:  0.9084702368252614\n",
      "Valid Acc:  0.20968430034129693\n",
      "Epoch:  6\n"
     ]
    },
    {
     "data": {
      "application/vnd.jupyter.widget-view+json": {
       "model_id": "8338b6e9c2254722b1bf818f6fa883b7",
       "version_major": 2,
       "version_minor": 0
      },
      "text/plain": [
       "  0%|          | 0/879 [00:00<?, ?it/s]"
      ]
     },
     "metadata": {},
     "output_type": "display_data"
    },
    {
     "name": "stdout",
     "output_type": "stream",
     "text": [
      "Train loss:  0.2777005713814456\n"
     ]
    },
    {
     "data": {
      "application/vnd.jupyter.widget-view+json": {
       "model_id": "1a6400ab992342e3b48356364c4647f2",
       "version_major": 2,
       "version_minor": 0
      },
      "text/plain": [
       "  0%|          | 0/293 [00:00<?, ?it/s]"
      ]
     },
     "metadata": {},
     "output_type": "display_data"
    },
    {
     "name": "stdout",
     "output_type": "stream",
     "text": [
      "Valid loss:  11.58653934823775\n",
      "Train Acc:  0.8539221961453667\n",
      "Valid Acc:  0.2037116040955631\n",
      "Epoch:  7\n"
     ]
    },
    {
     "data": {
      "application/vnd.jupyter.widget-view+json": {
       "model_id": "5f2eb800656945a788eb619ff72b9a7c",
       "version_major": 2,
       "version_minor": 0
      },
      "text/plain": [
       "  0%|          | 0/879 [00:00<?, ?it/s]"
      ]
     },
     "metadata": {},
     "output_type": "display_data"
    },
    {
     "name": "stdout",
     "output_type": "stream",
     "text": [
      "Train loss:  0.27386252147244106\n"
     ]
    },
    {
     "data": {
      "application/vnd.jupyter.widget-view+json": {
       "model_id": "ac22d1292540492b97aa903c80a2af20",
       "version_major": 2,
       "version_minor": 0
      },
      "text/plain": [
       "  0%|          | 0/293 [00:00<?, ?it/s]"
      ]
     },
     "metadata": {},
     "output_type": "display_data"
    },
    {
     "name": "stdout",
     "output_type": "stream",
     "text": [
      "Valid loss:  9.52670332026563\n",
      "Train Acc:  0.749662186188749\n",
      "Valid Acc:  0.10174914675767921\n",
      "Epoch:  8\n"
     ]
    },
    {
     "data": {
      "application/vnd.jupyter.widget-view+json": {
       "model_id": "2935c833791046839479c6c0a3f5d248",
       "version_major": 2,
       "version_minor": 0
      },
      "text/plain": [
       "  0%|          | 0/879 [00:00<?, ?it/s]"
      ]
     },
     "metadata": {},
     "output_type": "display_data"
    },
    {
     "name": "stdout",
     "output_type": "stream",
     "text": [
      "Train loss:  0.24962360047193857\n"
     ]
    },
    {
     "data": {
      "application/vnd.jupyter.widget-view+json": {
       "model_id": "1d10ef59e69846dd81830f9d10d2589e",
       "version_major": 2,
       "version_minor": 0
      },
      "text/plain": [
       "  0%|          | 0/293 [00:00<?, ?it/s]"
      ]
     },
     "metadata": {},
     "output_type": "display_data"
    },
    {
     "name": "stdout",
     "output_type": "stream",
     "text": [
      "Valid loss:  20.374847607401044\n",
      "Train Acc:  0.5340302965649669\n",
      "Valid Acc:  0.2239761092150171\n",
      "Epoch:  9\n"
     ]
    },
    {
     "data": {
      "application/vnd.jupyter.widget-view+json": {
       "model_id": "3a9cf604109440a6891da7c6a292e000",
       "version_major": 2,
       "version_minor": 0
      },
      "text/plain": [
       "  0%|          | 0/879 [00:00<?, ?it/s]"
      ]
     },
     "metadata": {},
     "output_type": "display_data"
    },
    {
     "name": "stdout",
     "output_type": "stream",
     "text": [
      "Train loss:  0.25939175018890254\n"
     ]
    },
    {
     "data": {
      "application/vnd.jupyter.widget-view+json": {
       "model_id": "bd054cdd059a45eeb55f7472441fdf88",
       "version_major": 2,
       "version_minor": 0
      },
      "text/plain": [
       "  0%|          | 0/293 [00:00<?, ?it/s]"
      ]
     },
     "metadata": {},
     "output_type": "display_data"
    },
    {
     "name": "stdout",
     "output_type": "stream",
     "text": [
      "Valid loss:  9.988693709259554\n",
      "Train Acc:  0.9085413555223668\n",
      "Valid Acc:  0.20904436860068254\n"
     ]
    }
   ],
   "source": [
    "lossFun = nn.CrossEntropyLoss()\n",
    "\n",
    "params_to_update = []\n",
    "\n",
    "for param in model.parameters():\n",
    "    if param.requires_grad == True:\n",
    "        params_to_update.append(param)\n",
    "        \n",
    "optimizer = optim.AdamW(params_to_update, lr=0.01)\n",
    "\n",
    "num_epochs = 10\n",
    "train_losses = []\n",
    "valid_losses = []\n",
    "train_accs = []\n",
    "valid_accs = []\n",
    "\n",
    "iterations = num_epochs*len(dl_train)\n",
    "lrs = get_cosine_triangular_lr(max_lr=0.01, iterations=iterations)\n",
    "idx = 0\n",
    "\n",
    "for i, epoch in tqdm(enumerate(range(num_epochs))):\n",
    "    print('Epoch: ', epoch)\n",
    "    \n",
    "    train_loss, idx = one_pass(model, dl_train, optimizer, lossFun, lrs, idx)\n",
    "    train_losses.append(train_loss)\n",
    "    print('Train loss: ', train_loss)\n",
    "    \n",
    "    valid_loss, idx = one_pass(model, dl_valid, optimizer, lossFun, lrs=None, idx=idx, backwards=False)\n",
    "    valid_losses.append(valid_loss)\n",
    "    print('Valid loss: ', valid_loss)\n",
    "    \n",
    "    train_acc = one_pass_acc(model, dl_train, len(ds_train))\n",
    "    valid_acc = one_pass_acc(model, dl_valid, len(ds_valid))\n",
    "    print('Train Acc: ', train_acc)\n",
    "    print('Valid Acc: ', valid_acc)\n",
    "    \n",
    "    train_losses.append(train_loss)\n",
    "    train_accs.append(train_acc)\n",
    "    valid_losses.append(valid_loss)\n",
    "    valid_accs.append(valid_acc)\n",
    "    \n",
    "    # Save model for the epoch\n",
    "    model_name = f'models/{directory}/{today}_epoch_{epoch}_tacc_{train_acc:.2f}_vacc_{valid_acc:.2f}.pkl'\n",
    "    pickle.dump(model, open(model_name, 'wb'))\n",
    "    \n",
    "    # Parameter Checkpoint\n",
    "    checkpoint = {'model_state_dict': model.state_dict(),\n",
    "                  'optimizer_state_dict' :optimizer.state_dict()}\n",
    "    torch.save(checkpoint, f'models/{directory}/model_checkpoints/{today}_epoch_{epoch}.pt')"
   ]
  },
  {
   "cell_type": "markdown",
   "id": "eb679d14-b18e-4bd6-bb05-85aff905a44f",
   "metadata": {},
   "source": [
    "Deciding on model architecture:\n",
    "====\n",
    "\n",
    "- Strategy 1: Train a single model with all classes (lung_aca, lung_scc, lung_n, colon_aca, colon_n)\n",
    "\n",
    "- Strategy 2: Train one model to detect lung cancer (lung_aca, lung_scc, lung_n) and another to detect colon cancer (colon_aca, colon_n).\n",
    "    - Assumption: In production, the model will be given labels differentiating colon tissue xrays from lung tissue xrays"
   ]
  },
  {
   "cell_type": "code",
   "execution_count": null,
   "id": "7b4a7c60-0eee-42e0-97a5-3c7ae2643ce3",
   "metadata": {},
   "outputs": [],
   "source": [
    "model = models.resnet18(pretrained=True)\n",
    "model.classifier = nn.Linear(1024, 5, bias=True)"
   ]
  },
  {
   "cell_type": "markdown",
   "id": "f3059b08-1128-4481-8f0c-d48c0b28f645",
   "metadata": {},
   "source": [
    "Strategy 2: Two Models\n",
    "----\n",
    "\n",
    "- We first need to split the data into two sets by image location (colon, lung):"
   ]
  },
  {
   "cell_type": "code",
   "execution_count": 8,
   "id": "d43fdbc0-5693-4ba3-b314-4aaeb823b729",
   "metadata": {},
   "outputs": [],
   "source": [
    "df['location'] = df['label'].map(lambda x: x.split(\"_\")[0])\n",
    "df_lung = df[df['location'] == 'lung']\n",
    "df_colon = df[df['location'] == 'colon']"
   ]
  },
  {
   "cell_type": "markdown",
   "id": "fec66373-8f4d-468c-8e79-851b47ced0e2",
   "metadata": {},
   "source": [
    "- one pass was updated so that loss and accuracy are trained in the same loop (computational efficiency)"
   ]
  },
  {
   "cell_type": "code",
   "execution_count": 24,
   "id": "2f06ffdc-80a1-4497-b61d-3d180c1a24e5",
   "metadata": {},
   "outputs": [],
   "source": [
    "lung_train, lung_valid = train_test_split(df_lung)\n",
    "lung_train['label'].value_counts()\n",
    "\n",
    "lung_train_ds = CancerImagesDataset(lung_train)\n",
    "lung_train_dl = DataLoader(lung_train_ds, batch_size=16)\n",
    "\n",
    "lung_valid_ds = CancerImagesDataset(lung_valid)\n",
    "lung_valid_dl = DataLoader(lung_valid_ds, batch_size=16)"
   ]
  },
  {
   "cell_type": "code",
   "execution_count": 25,
   "id": "d2bfc0f0-e0c3-4b12-96a5-ca4f8fed4d96",
   "metadata": {},
   "outputs": [],
   "source": [
    "colon_train, colon_valid = train_test_split(df_colon)\n",
    "colon_train['label'].value_counts()\n",
    "\n",
    "colon_train_ds = CancerImagesDataset(colon_train)\n",
    "colon_train_dl = DataLoader(colon_train_ds, batch_size=16)\n",
    "\n",
    "colon_valid_ds = CancerImagesDataset(colon_valid)\n",
    "colon_valid_dl = DataLoader(colon_valid_ds, batch_size=16)"
   ]
  },
  {
   "cell_type": "code",
   "execution_count": 18,
   "id": "66dc3ba2-b1b3-49db-a990-fcea7d115659",
   "metadata": {
    "tags": []
   },
   "outputs": [],
   "source": [
    "def one_pass_train_valid(model, train_dl, valid_dl, optimizer, lossFun, class_type, device):\n",
    "    \n",
    "    model.train()\n",
    "    \n",
    "    losses = []\n",
    "    accuracies = []\n",
    "    y_preds = []\n",
    "    for x, y in tqdm(train_dl):    \n",
    "        x, y = x.to(device), y.to(device)\n",
    "        \n",
    "#         print(y.shape)\n",
    "\n",
    "        y_pred = model(x)\n",
    "        if class_type == 'binary':\n",
    "            y = y.float()\n",
    "            y_pred = y_pred.squeeze()\n",
    "\n",
    "        loss = lossFun(y_pred, y)\n",
    "        losses.append(loss.item())\n",
    "        \n",
    "        if class_type == 'binary':\n",
    "            y_pred = nn.Sigmoid()(y_pred)\n",
    "            y_pred[y_pred >= 0.5] = 1.\n",
    "            y_pred[y_pred<0.5] = 0.\n",
    "\n",
    "        else:\n",
    "            y_pred = torch.argmax(y_pred, dim=1)\n",
    "\n",
    "    \n",
    "        acc = (y_pred == y).sum() / len(y)\n",
    "        accuracies.append(acc.item())\n",
    "        \n",
    "        optimizer.zero_grad()\n",
    "        loss.backward()\n",
    "        optimizer.step()\n",
    "        \n",
    "\n",
    "    train_acc = sum(accuracies) / len(accuracies)\n",
    "    train_loss = sum(losses) / len(losses)\n",
    "    \n",
    "    model.eval()\n",
    "    \n",
    "    losses = []\n",
    "    accuracies = []\n",
    "    \n",
    "    for x, y in tqdm(valid_dl):\n",
    "        x, y = x.to(device), y.to(device)\n",
    "        \n",
    "        y_pred = model(x)\n",
    "        if class_type == 'binary':\n",
    "            y = y.float()\n",
    "            y_pred = y_pred.squeeze()\n",
    "            \n",
    "        loss = lossFun(y_pred, y)\n",
    "        losses.append(loss.item())\n",
    "        \n",
    "        if class_type == 'binary':\n",
    "            y_pred = nn.Sigmoid()(y_pred)\n",
    "            y_pred[y_pred >= 0.5] = 1.\n",
    "            y_pred[y_pred<0.5] = 0.\n",
    "\n",
    "        else:\n",
    "            y_pred = torch.argmax(y_pred, dim=1)\n",
    "\n",
    "        acc = (y_pred == y).sum() / len(y)\n",
    "        accuracies.append(acc.item())\n",
    "        \n",
    "    valid_acc = sum(accuracies) / len(accuracies)\n",
    "    valid_loss = sum(losses) / len(losses)\n",
    "    \n",
    "    return train_loss, train_acc, valid_loss, valid_acc"
   ]
  },
  {
   "cell_type": "markdown",
   "id": "b84a75ee-59ec-4662-aa84-7fc75e850f8e",
   "metadata": {},
   "source": [
    "Model 1: Lung Cancer Classifier (Multi-Class Classification)\n",
    "----"
   ]
  },
  {
   "cell_type": "code",
   "execution_count": 68,
   "id": "69f04dae-fb97-4fe6-990c-1f19439c5d29",
   "metadata": {},
   "outputs": [
    {
     "name": "stderr",
     "output_type": "stream",
     "text": [
      "/home/oniemann/deep_learning/lib64/python3.6/site-packages/torch/cuda/memory.py:375: FutureWarning: torch.cuda.memory_cached has been renamed to torch.cuda.memory_reserved\n",
      "  FutureWarning)\n"
     ]
    },
    {
     "data": {
      "text/plain": [
       "2139095040"
      ]
     },
     "execution_count": 68,
     "metadata": {},
     "output_type": "execute_result"
    }
   ],
   "source": [
    "torch.cuda.memory_cached()"
   ]
  },
  {
   "cell_type": "code",
   "execution_count": 48,
   "id": "5a97f1d3-c2cd-41e1-bd75-d0c5d0b16267",
   "metadata": {},
   "outputs": [
    {
     "data": {
      "application/vnd.jupyter.widget-view+json": {
       "model_id": "c63fb9b5d64f4429aaa7ee5155f663ca",
       "version_major": 2,
       "version_minor": 0
      },
      "text/plain": [
       "  0%|          | 0/5 [00:00<?, ?it/s]"
      ]
     },
     "metadata": {},
     "output_type": "display_data"
    },
    {
     "data": {
      "application/vnd.jupyter.widget-view+json": {
       "model_id": "e10119984d0943508590516fded8b968",
       "version_major": 2,
       "version_minor": 0
      },
      "text/plain": [
       "  0%|          | 0/704 [00:00<?, ?it/s]"
      ]
     },
     "metadata": {},
     "output_type": "display_data"
    },
    {
     "data": {
      "application/vnd.jupyter.widget-view+json": {
       "model_id": "56595052e917484fb5339a36073aff1e",
       "version_major": 2,
       "version_minor": 0
      },
      "text/plain": [
       "  0%|          | 0/235 [00:00<?, ?it/s]"
      ]
     },
     "metadata": {},
     "output_type": "display_data"
    },
    {
     "data": {
      "application/vnd.jupyter.widget-view+json": {
       "model_id": "7bf01f269b82441cbee1700797117a06",
       "version_major": 2,
       "version_minor": 0
      },
      "text/plain": [
       "  0%|          | 0/704 [00:00<?, ?it/s]"
      ]
     },
     "metadata": {},
     "output_type": "display_data"
    },
    {
     "data": {
      "application/vnd.jupyter.widget-view+json": {
       "model_id": "43488119c35d4de19854fba0e5f3912f",
       "version_major": 2,
       "version_minor": 0
      },
      "text/plain": [
       "  0%|          | 0/235 [00:00<?, ?it/s]"
      ]
     },
     "metadata": {},
     "output_type": "display_data"
    },
    {
     "data": {
      "application/vnd.jupyter.widget-view+json": {
       "model_id": "8e5c070587db40a59ffe8642a13bad0f",
       "version_major": 2,
       "version_minor": 0
      },
      "text/plain": [
       "  0%|          | 0/704 [00:00<?, ?it/s]"
      ]
     },
     "metadata": {},
     "output_type": "display_data"
    },
    {
     "data": {
      "application/vnd.jupyter.widget-view+json": {
       "model_id": "da77cf53b6904ce78deb3c79c867d59a",
       "version_major": 2,
       "version_minor": 0
      },
      "text/plain": [
       "  0%|          | 0/235 [00:00<?, ?it/s]"
      ]
     },
     "metadata": {},
     "output_type": "display_data"
    },
    {
     "data": {
      "application/vnd.jupyter.widget-view+json": {
       "model_id": "bda077bb338e4576b845b92e39bc3242",
       "version_major": 2,
       "version_minor": 0
      },
      "text/plain": [
       "  0%|          | 0/704 [00:00<?, ?it/s]"
      ]
     },
     "metadata": {},
     "output_type": "display_data"
    },
    {
     "data": {
      "application/vnd.jupyter.widget-view+json": {
       "model_id": "b69025106eed43559d186a8a83c12b7e",
       "version_major": 2,
       "version_minor": 0
      },
      "text/plain": [
       "  0%|          | 0/235 [00:00<?, ?it/s]"
      ]
     },
     "metadata": {},
     "output_type": "display_data"
    },
    {
     "data": {
      "application/vnd.jupyter.widget-view+json": {
       "model_id": "eec114a9af5c4e98b29eedd213a32be3",
       "version_major": 2,
       "version_minor": 0
      },
      "text/plain": [
       "  0%|          | 0/704 [00:00<?, ?it/s]"
      ]
     },
     "metadata": {},
     "output_type": "display_data"
    },
    {
     "data": {
      "application/vnd.jupyter.widget-view+json": {
       "model_id": "5e0c7fe3779449799669252119419296",
       "version_major": 2,
       "version_minor": 0
      },
      "text/plain": [
       "  0%|          | 0/235 [00:00<?, ?it/s]"
      ]
     },
     "metadata": {},
     "output_type": "display_data"
    }
   ],
   "source": [
    "# lung_model = models.resnet18(pretrained=True)\n",
    "# lung_model.fc = nn.Linear(512, 3)\n",
    "\n",
    "# device = torch.device(0)\n",
    "# lung_model.to(device)\n",
    "\n",
    "lossFun = nn.CrossEntropyLoss()\n",
    "\n",
    "params_to_update = []\n",
    "\n",
    "for param in lung_model.parameters():\n",
    "    if param.requires_grad == True:\n",
    "        params_to_update.append(param)\n",
    "        \n",
    "optimizer = optim.AdamW(params_to_update, lr=0.01)\n",
    "\n",
    "num_epochs = 5\n",
    "# tl1 = []\n",
    "# vl1 = []\n",
    "# ta1 = []\n",
    "# va1 = []\n",
    "\n",
    "for i in tqdm(range(num_epochs)):\n",
    "    train_loss, train_acc, valid_loss, valid_acc = one_pass_train_valid(lung_model, lung_train_dl, lung_valid_dl, optimizer, lossFun, class_type='multiclass', device=device)\n",
    "    tl1.append(train_loss)\n",
    "    vl1.append(valid_loss)\n",
    "    ta1.append(train_acc)\n",
    "    va1.append(valid_acc)"
   ]
  },
  {
   "cell_type": "markdown",
   "id": "b8433d77-0ed3-4964-8dee-4084249451a2",
   "metadata": {},
   "source": [
    "Model 2: Colon Cancer Classifier (Binary Classification)\n",
    "----"
   ]
  },
  {
   "cell_type": "code",
   "execution_count": 49,
   "id": "75fb6a2c-2312-46da-99c2-8ce08226b469",
   "metadata": {},
   "outputs": [
    {
     "data": {
      "application/vnd.jupyter.widget-view+json": {
       "model_id": "e7a18a9696a8410ebee8308df6269adb",
       "version_major": 2,
       "version_minor": 0
      },
      "text/plain": [
       "  0%|          | 0/469 [00:00<?, ?it/s]"
      ]
     },
     "metadata": {},
     "output_type": "display_data"
    },
    {
     "data": {
      "application/vnd.jupyter.widget-view+json": {
       "model_id": "8aef480820734b87acc7f186224f671c",
       "version_major": 2,
       "version_minor": 0
      },
      "text/plain": [
       "  0%|          | 0/157 [00:00<?, ?it/s]"
      ]
     },
     "metadata": {},
     "output_type": "display_data"
    },
    {
     "data": {
      "application/vnd.jupyter.widget-view+json": {
       "model_id": "38ca99fb9746416bae1e6b7ac43949e7",
       "version_major": 2,
       "version_minor": 0
      },
      "text/plain": [
       "  0%|          | 0/469 [00:00<?, ?it/s]"
      ]
     },
     "metadata": {},
     "output_type": "display_data"
    },
    {
     "data": {
      "application/vnd.jupyter.widget-view+json": {
       "model_id": "7dd26e600899416696739065e4806c6b",
       "version_major": 2,
       "version_minor": 0
      },
      "text/plain": [
       "  0%|          | 0/157 [00:00<?, ?it/s]"
      ]
     },
     "metadata": {},
     "output_type": "display_data"
    },
    {
     "data": {
      "application/vnd.jupyter.widget-view+json": {
       "model_id": "3845b181df334cdeb5fd9cd3a9acea20",
       "version_major": 2,
       "version_minor": 0
      },
      "text/plain": [
       "  0%|          | 0/469 [00:00<?, ?it/s]"
      ]
     },
     "metadata": {},
     "output_type": "display_data"
    },
    {
     "data": {
      "application/vnd.jupyter.widget-view+json": {
       "model_id": "3de750f155ce4e95a06b8f72ad490d68",
       "version_major": 2,
       "version_minor": 0
      },
      "text/plain": [
       "  0%|          | 0/157 [00:00<?, ?it/s]"
      ]
     },
     "metadata": {},
     "output_type": "display_data"
    },
    {
     "data": {
      "application/vnd.jupyter.widget-view+json": {
       "model_id": "72908300bb3b4873b7c2c8c434fe441e",
       "version_major": 2,
       "version_minor": 0
      },
      "text/plain": [
       "  0%|          | 0/469 [00:00<?, ?it/s]"
      ]
     },
     "metadata": {},
     "output_type": "display_data"
    },
    {
     "data": {
      "application/vnd.jupyter.widget-view+json": {
       "model_id": "8e5f0aad25ff446fac22440f2b1cd815",
       "version_major": 2,
       "version_minor": 0
      },
      "text/plain": [
       "  0%|          | 0/157 [00:00<?, ?it/s]"
      ]
     },
     "metadata": {},
     "output_type": "display_data"
    },
    {
     "data": {
      "application/vnd.jupyter.widget-view+json": {
       "model_id": "d2fd6a72333e4cffb6cb1daef6f1fafa",
       "version_major": 2,
       "version_minor": 0
      },
      "text/plain": [
       "  0%|          | 0/469 [00:00<?, ?it/s]"
      ]
     },
     "metadata": {},
     "output_type": "display_data"
    },
    {
     "data": {
      "application/vnd.jupyter.widget-view+json": {
       "model_id": "15d3d401eaea450eb017a0445cae5b9f",
       "version_major": 2,
       "version_minor": 0
      },
      "text/plain": [
       "  0%|          | 0/157 [00:00<?, ?it/s]"
      ]
     },
     "metadata": {},
     "output_type": "display_data"
    }
   ],
   "source": [
    "# colon_model = models.resnet18(pretrained=True)\n",
    "# colon_model.fc = nn.Linear(512, 1)\n",
    "\n",
    "# device = torch.device(0)\n",
    "# colon_model.to(device)\n",
    "\n",
    "lossFun = nn.BCEWithLogitsLoss()\n",
    "\n",
    "params_to_update = []\n",
    "\n",
    "for param in colon_model.parameters():\n",
    "    if param.requires_grad == True:\n",
    "        params_to_update.append(param)\n",
    "        \n",
    "optimizer = optim.AdamW(params_to_update, lr=0.01)\n",
    "\n",
    "# tl2 = []\n",
    "# vl2 = []\n",
    "# ta2 = []\n",
    "# va2 = []\n",
    "\n",
    "for i in range(num_epochs):\n",
    "    one_pass_train_valid(colon_model, colon_train_dl, colon_valid_dl, optimizer, lossFun, class_type='binary', device=device)\n",
    "    tl2.append(train_loss)\n",
    "    vl2.append(valid_loss)\n",
    "    ta2.append(train_acc)\n",
    "    va2.append(valid_acc)"
   ]
  },
  {
   "cell_type": "code",
   "execution_count": 35,
   "id": "0d4d7428-d959-4b18-a663-1c0be33a762b",
   "metadata": {},
   "outputs": [],
   "source": [
    "def avg_loss(l_colon, l_lung):\n",
    "    return [(i+j)/2 for i, j in zip(l_colon, l_lung)]\n",
    "\n",
    "def avg_acc(acc_colon, acc_lung, len_df_colon, len_df_lung):\n",
    "    return [((len_df_colon) * i + (len_df_lung) * j)/(len_df_colon + len_df_lung) for i, j in zip(acc_colon, acc_lung)]"
   ]
  },
  {
   "cell_type": "code",
   "execution_count": 50,
   "id": "6c80b6ac-ef7e-4d0c-a670-8c08799ce0b7",
   "metadata": {},
   "outputs": [],
   "source": [
    "train_loss = avg_loss(tl1, tl2)\n",
    "valid_loss = avg_loss(vl1, vl2)\n",
    "train_acc = avg_acc(ta1, ta2, len(colon_train), len(lung_train))\n",
    "valid_acc = avg_acc(va1, va2, len(colon_valid), len(lung_valid))"
   ]
  },
  {
   "cell_type": "code",
   "execution_count": 51,
   "id": "2a5e7882-9d00-4bf9-a1e8-6c0142bc3bbf",
   "metadata": {},
   "outputs": [
    {
     "data": {
      "image/png": "[encoded data removed]",
      "text/plain": [
       "<Figure size 432x288 with 1 Axes>"
      ]
     },
     "metadata": {},
     "output_type": "display_data"
    }
   ],
   "source": [
    "plt.plot(train_loss, label = 'train')\n",
    "plt.plot(valid_loss, label = 'valid')\n",
    "plt.legend()\n",
    "plt.xlabel('Epochs')\n",
    "plt.title('Combined Average Loss')\n",
    "plt.savefig('figures/combined_average_loss.png')"
   ]
  },
  {
   "cell_type": "code",
   "execution_count": 52,
   "id": "72e7f9e2-e525-452a-a729-b449b2d21485",
   "metadata": {
    "tags": []
   },
   "outputs": [
    {
     "data": {
      "image/png": "[encoded data removed]",
      "text/plain": [
       "<Figure size 432x288 with 1 Axes>"
      ]
     },
     "metadata": {},
     "output_type": "display_data"
    }
   ],
   "source": [
    "plt.plot(train_acc, label = 'train')\n",
    "plt.plot(valid_acc, label = 'valid')\n",
    "plt.legend()\n",
    "plt.xlabel('Epochs')\n",
    "plt.title('Accuracy (Weighted Average)')\n",
    "plt.savefig('figures/combined_average_accuracy.png')"
   ]
  },
  {
   "cell_type": "markdown",
   "id": "f6daec7f-5c2a-496d-af37-a02a6f2bcbcf",
   "metadata": {},
   "source": [
    "- As seen in the above figure, we're still running into the problem of a highly overfit model."
   ]
  },
  {
   "cell_type": "markdown",
   "id": "67b5886e-76ac-4d79-9790-fd4a45e2b46a",
   "metadata": {},
   "source": [
    "# Transform the Task into Binary Classification (Presence of Cancer):\n",
    "\n",
    "- Since the model is failing miserably in terms of generalization, maybe it's a good idea to take a few steps back and solely focus on whether an image can be predicted to contain cancer."
   ]
  },
  {
   "cell_type": "code",
   "execution_count": 7,
   "id": "b708da6a-cf5b-42bc-b19b-540160c604ce",
   "metadata": {
    "tags": []
   },
   "outputs": [
    {
     "name": "stdout",
     "output_type": "stream",
     "text": [
      "\n"
     ]
    }
   ],
   "source": [
    "model = models.resnet18(pretrained=True)\n",
    "device = torch.device(0)\n",
    "model.fc = nn.Linear(512, 1, bias=True)\n",
    "model.to(device)\n",
    "print()"
   ]
  },
  {
   "cell_type": "code",
   "execution_count": 10,
   "id": "7ad10b47-7333-4f6a-98f0-28508ff52443",
   "metadata": {},
   "outputs": [
    {
     "data": {
      "text/plain": [
       "Cancer        14999\n",
       "Not Cancer    10000\n",
       "Name: type, dtype: int64"
      ]
     },
     "execution_count": 10,
     "metadata": {},
     "output_type": "execute_result"
    }
   ],
   "source": [
    "df['type'] = df['label'].map(lambda x: 'Not Cancer' if 'n' in x.split('_')[1] else 'Cancer')\n",
    "df['type'].value_counts()"
   ]
  },
  {
   "cell_type": "code",
   "execution_count": 15,
   "id": "d93ca1c7-71c3-497f-b4f4-24c4c35f677d",
   "metadata": {},
   "outputs": [],
   "source": [
    "class BinCancerImagesDataset(Dataset):\n",
    "    def __init__(self, df):\n",
    "        self.df = df\n",
    "        \n",
    "        self.label_dict = {label:idx for idx, label in enumerate(df.type.unique())}\n",
    "        \n",
    "        # Randomly augment images for variety\n",
    "        self.transforms = A.Compose([\n",
    "            # spatial transforms\n",
    "            A.RandomCrop(width=255, height=255),\n",
    "            A.HorizontalFlip(p=.5),\n",
    "            A.VerticalFlip(p=.5),\n",
    "            A.Rotate(limit = 10, \n",
    "                     border_mode = cv2.BORDER_CONSTANT, \n",
    "                     value = 0.0, p = .75),\n",
    "\n",
    "            # pixel-level transformation\n",
    "            A.RandomBrightnessContrast(p=0.1),\n",
    "\n",
    "            # we will normalize according to ImageNet since we will be using a pre-trained ResNet\n",
    "            # this adjusts from [0,255] to [0,1]\n",
    "            A.Normalize(mean=(0.485, 0.456, 0.406), std=(0.229, 0.224, 0.225)),\n",
    "\n",
    "            # convert to a tensor and move color channels\n",
    "            ToTensorV2()\n",
    "        ])\n",
    "        \n",
    "    def __len__(self):\n",
    "        return len(self.df)\n",
    "    \n",
    "    def __getitem__(self, idx):\n",
    "        row = self.df.iloc[idx]\n",
    "        \n",
    "        path = row['image_path'] + f\"/{row['image_file']}\"\n",
    "        \n",
    "        img = cv2.imread(path)\n",
    "        \n",
    "        #img = cv2.cvtColor(img, cv2.COLOR_BGR2RGB)\n",
    "        \n",
    "        transformed = self.transforms(image=img.astype(np.uint8))\n",
    "        img = transformed['image']\n",
    "        \n",
    "        #Scale to v\n",
    "        img = ((img - img.min()) / (img.max()-img.min()))\n",
    "        \n",
    "        label = torch.tensor(self.label_dict[row['type']])\n",
    "        \n",
    "        return img, label"
   ]
  },
  {
   "cell_type": "code",
   "execution_count": 10,
   "id": "315a9392-b75d-4c36-b59b-f5c36dcb5f3a",
   "metadata": {},
   "outputs": [],
   "source": [
    "train_df, valid_df = train_test_split(df)"
   ]
  },
  {
   "cell_type": "code",
   "execution_count": 11,
   "id": "5ebe9f9a-c025-4d32-9c4f-4d1cca9701f7",
   "metadata": {},
   "outputs": [],
   "source": [
    "train_ds = BinCancerImagesDataset(train_df)\n",
    "valid_ds = BinCancerImagesDataset(valid_df)\n",
    "\n",
    "batch_size= 30\n",
    "train_dl = DataLoader(train_ds, batch_size=batch_size, shuffle=True)\n",
    "valid_dl = DataLoader(valid_ds, batch_size=batch_size)"
   ]
  },
  {
   "cell_type": "code",
   "execution_count": 16,
   "id": "9095ea2b-5f59-4796-bca1-417957a69755",
   "metadata": {
    "tags": []
   },
   "outputs": [
    {
     "data": {
      "application/vnd.jupyter.widget-view+json": {
       "model_id": "576458eb53fa48e782c2d5866dac8bd6",
       "version_major": 2,
       "version_minor": 0
      },
      "text/plain": [
       "  0%|          | 0/625 [00:00<?, ?it/s]"
      ]
     },
     "metadata": {},
     "output_type": "display_data"
    },
    {
     "name": "stderr",
     "output_type": "stream",
     "text": [
      "/home/oniemann/deep_learning/lib64/python3.6/site-packages/torch/nn/functional.py:718: UserWarning: Named tensors and all their associated APIs are an experimental feature and subject to change. Please do not use them for anything important until they are released as stable. (Triggered internally at  /pytorch/c10/core/TensorImpl.h:1156.)\n",
      "  return torch.max_pool2d(input, kernel_size, stride, padding, dilation, ceil_mode)\n"
     ]
    },
    {
     "data": {
      "application/vnd.jupyter.widget-view+json": {
       "model_id": "dcc1ef167650480f96949c719f038eed",
       "version_major": 2,
       "version_minor": 0
      },
      "text/plain": [
       "  0%|          | 0/209 [00:00<?, ?it/s]"
      ]
     },
     "metadata": {},
     "output_type": "display_data"
    },
    {
     "name": "stdout",
     "output_type": "stream",
     "text": [
      "train_acc: 0.8454,  valid_acc = 0.8094\n"
     ]
    },
    {
     "data": {
      "application/vnd.jupyter.widget-view+json": {
       "model_id": "9e903770068b41edb2857ca1f10ea90d",
       "version_major": 2,
       "version_minor": 0
      },
      "text/plain": [
       "  0%|          | 0/625 [00:00<?, ?it/s]"
      ]
     },
     "metadata": {},
     "output_type": "display_data"
    },
    {
     "data": {
      "application/vnd.jupyter.widget-view+json": {
       "model_id": "6a1d9824aae64ce096fea758c7a80486",
       "version_major": 2,
       "version_minor": 0
      },
      "text/plain": [
       "  0%|          | 0/209 [00:00<?, ?it/s]"
      ]
     },
     "metadata": {},
     "output_type": "display_data"
    },
    {
     "name": "stdout",
     "output_type": "stream",
     "text": [
      "train_acc: 0.8884,  valid_acc = 0.6577\n"
     ]
    },
    {
     "data": {
      "application/vnd.jupyter.widget-view+json": {
       "model_id": "33929df39fe94ba197d42001fc1038ed",
       "version_major": 2,
       "version_minor": 0
      },
      "text/plain": [
       "  0%|          | 0/625 [00:00<?, ?it/s]"
      ]
     },
     "metadata": {},
     "output_type": "display_data"
    },
    {
     "data": {
      "application/vnd.jupyter.widget-view+json": {
       "model_id": "ab908a1d8b8b4ef4939c9795be66285c",
       "version_major": 2,
       "version_minor": 0
      },
      "text/plain": [
       "  0%|          | 0/209 [00:00<?, ?it/s]"
      ]
     },
     "metadata": {},
     "output_type": "display_data"
    },
    {
     "name": "stdout",
     "output_type": "stream",
     "text": [
      "train_acc: 0.9139,  valid_acc = 0.9070\n"
     ]
    },
    {
     "data": {
      "application/vnd.jupyter.widget-view+json": {
       "model_id": "6bc45a52f60d4f35958a4149140d6e3b",
       "version_major": 2,
       "version_minor": 0
      },
      "text/plain": [
       "  0%|          | 0/625 [00:00<?, ?it/s]"
      ]
     },
     "metadata": {},
     "output_type": "display_data"
    },
    {
     "data": {
      "application/vnd.jupyter.widget-view+json": {
       "model_id": "db8b60217c6543c985e8ed27b8d7a49a",
       "version_major": 2,
       "version_minor": 0
      },
      "text/plain": [
       "  0%|          | 0/209 [00:00<?, ?it/s]"
      ]
     },
     "metadata": {},
     "output_type": "display_data"
    },
    {
     "name": "stdout",
     "output_type": "stream",
     "text": [
      "train_acc: 0.9281,  valid_acc = 0.8707\n"
     ]
    },
    {
     "data": {
      "application/vnd.jupyter.widget-view+json": {
       "model_id": "f637c4df11d246d1b1a1f6e09974a68f",
       "version_major": 2,
       "version_minor": 0
      },
      "text/plain": [
       "  0%|          | 0/625 [00:00<?, ?it/s]"
      ]
     },
     "metadata": {},
     "output_type": "display_data"
    },
    {
     "data": {
      "application/vnd.jupyter.widget-view+json": {
       "model_id": "e66d7dca69cf471f8a25dc432cb2ece5",
       "version_major": 2,
       "version_minor": 0
      },
      "text/plain": [
       "  0%|          | 0/209 [00:00<?, ?it/s]"
      ]
     },
     "metadata": {},
     "output_type": "display_data"
    },
    {
     "name": "stdout",
     "output_type": "stream",
     "text": [
      "train_acc: 0.9307,  valid_acc = 0.8799\n"
     ]
    },
    {
     "data": {
      "application/vnd.jupyter.widget-view+json": {
       "model_id": "0cb4557b2a30485c8ff9651c54021a86",
       "version_major": 2,
       "version_minor": 0
      },
      "text/plain": [
       "  0%|          | 0/625 [00:00<?, ?it/s]"
      ]
     },
     "metadata": {},
     "output_type": "display_data"
    },
    {
     "data": {
      "application/vnd.jupyter.widget-view+json": {
       "model_id": "9f8c5b1eee23484e90adaecb4b9b2084",
       "version_major": 2,
       "version_minor": 0
      },
      "text/plain": [
       "  0%|          | 0/209 [00:00<?, ?it/s]"
      ]
     },
     "metadata": {},
     "output_type": "display_data"
    },
    {
     "name": "stdout",
     "output_type": "stream",
     "text": [
      "train_acc: 0.9356,  valid_acc = 0.9185\n"
     ]
    },
    {
     "data": {
      "application/vnd.jupyter.widget-view+json": {
       "model_id": "b41f496b54f14873bc954246195fb426",
       "version_major": 2,
       "version_minor": 0
      },
      "text/plain": [
       "  0%|          | 0/625 [00:00<?, ?it/s]"
      ]
     },
     "metadata": {},
     "output_type": "display_data"
    },
    {
     "data": {
      "application/vnd.jupyter.widget-view+json": {
       "model_id": "4fcdfbeb1a1642ec95ef00376036a7f7",
       "version_major": 2,
       "version_minor": 0
      },
      "text/plain": [
       "  0%|          | 0/209 [00:00<?, ?it/s]"
      ]
     },
     "metadata": {},
     "output_type": "display_data"
    },
    {
     "name": "stdout",
     "output_type": "stream",
     "text": [
      "train_acc: 0.9447,  valid_acc = 0.6108\n"
     ]
    },
    {
     "data": {
      "application/vnd.jupyter.widget-view+json": {
       "model_id": "5831b3d5ce024a66b8453184030f2e4e",
       "version_major": 2,
       "version_minor": 0
      },
      "text/plain": [
       "  0%|          | 0/625 [00:00<?, ?it/s]"
      ]
     },
     "metadata": {},
     "output_type": "display_data"
    },
    {
     "data": {
      "application/vnd.jupyter.widget-view+json": {
       "model_id": "f118497fff7340a38c50ed535e343225",
       "version_major": 2,
       "version_minor": 0
      },
      "text/plain": [
       "  0%|          | 0/209 [00:00<?, ?it/s]"
      ]
     },
     "metadata": {},
     "output_type": "display_data"
    },
    {
     "name": "stdout",
     "output_type": "stream",
     "text": [
      "train_acc: 0.9456,  valid_acc = 0.9116\n"
     ]
    },
    {
     "data": {
      "application/vnd.jupyter.widget-view+json": {
       "model_id": "96af0048655b4274875b03fef3f8b841",
       "version_major": 2,
       "version_minor": 0
      },
      "text/plain": [
       "  0%|          | 0/625 [00:00<?, ?it/s]"
      ]
     },
     "metadata": {},
     "output_type": "display_data"
    },
    {
     "data": {
      "application/vnd.jupyter.widget-view+json": {
       "model_id": "a5492ab739c941c4b3f6d55085b6e8b0",
       "version_major": 2,
       "version_minor": 0
      },
      "text/plain": [
       "  0%|          | 0/209 [00:00<?, ?it/s]"
      ]
     },
     "metadata": {},
     "output_type": "display_data"
    },
    {
     "name": "stdout",
     "output_type": "stream",
     "text": [
      "train_acc: 0.9513,  valid_acc = 0.9596\n"
     ]
    },
    {
     "data": {
      "application/vnd.jupyter.widget-view+json": {
       "model_id": "f70e0adea02943f19b85e574b0717739",
       "version_major": 2,
       "version_minor": 0
      },
      "text/plain": [
       "  0%|          | 0/625 [00:00<?, ?it/s]"
      ]
     },
     "metadata": {},
     "output_type": "display_data"
    },
    {
     "data": {
      "application/vnd.jupyter.widget-view+json": {
       "model_id": "3a936e2a9e31488b9de51732cacf6c48",
       "version_major": 2,
       "version_minor": 0
      },
      "text/plain": [
       "  0%|          | 0/209 [00:00<?, ?it/s]"
      ]
     },
     "metadata": {},
     "output_type": "display_data"
    },
    {
     "name": "stdout",
     "output_type": "stream",
     "text": [
      "train_acc: 0.9530,  valid_acc = 0.8482\n"
     ]
    }
   ],
   "source": [
    "model = models.resnet18(pretrained=True)\n",
    "device = torch.device(0)\n",
    "model.fc = nn.Linear(512, 1, bias=True)\n",
    "model.to(device)\n",
    "\n",
    "lossFun = nn.BCEWithLogitsLoss()\n",
    "\n",
    "params_to_update = []\n",
    "\n",
    "for param in model.parameters():\n",
    "    if param.requires_grad == True:\n",
    "        params_to_update.append(param)\n",
    "        \n",
    "optimizer = optim.AdamW(params_to_update, lr=0.01)\n",
    "\n",
    "tl_bin = []\n",
    "vl_bin = []\n",
    "ta_bin = []\n",
    "va_bin = []\n",
    "num_epochs = 10\n",
    "\n",
    "for i in range(num_epochs):\n",
    "    train_loss, train_acc, valid_loss, valid_acc = one_pass_train_valid(model, train_dl, valid_dl, optimizer, lossFun, class_type='binary', device=device)\n",
    "    print(f\"train_acc: {train_acc:.4f},  valid_acc = {valid_acc:.4f}\")\n",
    "    tl_bin.append(train_loss)\n",
    "    vl_bin.append(valid_loss)\n",
    "    ta_bin.append(train_acc)\n",
    "    va_bin.append(valid_acc)\n",
    "    model_name = f'models/resnet18/8112021_epoch_{i}_tacc_{train_acc:.3f}_vacc_{valid_acc:.3f}.pkl'\n",
    "    pickle.dump(model, open(model_name, 'wb'))"
   ]
  },
  {
   "cell_type": "code",
   "execution_count": 17,
   "id": "a0fd0e33-8b94-4576-9ccc-4d7f66506161",
   "metadata": {},
   "outputs": [
    {
     "data": {
      "image/png": "[encoded data removed]",
      "text/plain": [
       "<Figure size 432x288 with 1 Axes>"
      ]
     },
     "metadata": {},
     "output_type": "display_data"
    }
   ],
   "source": [
    "plt.plot(tl_bin, label = 'train')\n",
    "plt.plot(vl_bin, label = 'valid')\n",
    "plt.legend()\n",
    "plt.xlabel('Epochs')\n",
    "plt.title('Cancer Presence Loss')\n",
    "plt.savefig('figures/cancer_yes_no_loss.png')"
   ]
  },
  {
   "cell_type": "code",
   "execution_count": 18,
   "id": "c7e3c728-d87b-4ad7-937d-9b9b5fd53c00",
   "metadata": {},
   "outputs": [
    {
     "data": {
      "image/png": "[encoded data removed]",
      "text/plain": [
       "<Figure size 432x288 with 1 Axes>"
      ]
     },
     "metadata": {},
     "output_type": "display_data"
    }
   ],
   "source": [
    "plt.plot(ta_bin, label = 'train')\n",
    "plt.plot(va_bin, label = 'valid')\n",
    "plt.legend()\n",
    "plt.xlabel('Epochs')\n",
    "plt.title('Cancer Identification Accuracy')\n",
    "plt.savefig('figures/cancer_identification_accuracy.png')"
   ]
  },
  {
   "cell_type": "markdown",
   "id": "3e164e1c-79ec-4cad-b0d4-ce16885a907b",
   "metadata": {},
   "source": [
    "- Wow, cancer identification is incredible when turned into a binary classification problem! Let's see how the model performs as a multi-classification task on the different cancers."
   ]
  },
  {
   "cell_type": "markdown",
   "id": "1ba01fd9-ac21-4e77-a5c0-479ec5fd4803",
   "metadata": {},
   "source": [
    "# Fine-Tuning the Model:\n",
    "\n",
    "- Every five epochs, unfreeze a single layer (and its bias terms)\n",
    "- Stop when there is no significant gain in the model's accuracy"
   ]
  },
  {
   "cell_type": "code",
   "execution_count": 26,
   "id": "52b597bc-3e91-4711-84f6-4372b49dfaed",
   "metadata": {},
   "outputs": [],
   "source": [
    "filename = './models/resnet18/8112021_epoch_9_tacc_0.953_vacc_0.848.pkl'\n",
    "ft_model = pickle.load(open(filename, 'rb'))"
   ]
  },
  {
   "cell_type": "code",
   "execution_count": 30,
   "id": "70a756a0-6a2e-41d2-9368-7c8e8884240a",
   "metadata": {
    "collapsed": true,
    "jupyter": {
     "outputs_hidden": true
    },
    "tags": []
   },
   "outputs": [
    {
     "name": "stdout",
     "output_type": "stream",
     "text": [
      "0 conv1.weight False\n",
      "1 bn1.weight False\n",
      "2 bn1.bias False\n",
      "3 layer1.0.conv1.weight False\n",
      "4 layer1.0.bn1.weight False\n",
      "5 layer1.0.bn1.bias False\n",
      "6 layer1.0.conv2.weight False\n",
      "7 layer1.0.bn2.weight False\n",
      "8 layer1.0.bn2.bias False\n",
      "9 layer1.1.conv1.weight False\n",
      "10 layer1.1.bn1.weight False\n",
      "11 layer1.1.bn1.bias False\n",
      "12 layer1.1.conv2.weight False\n",
      "13 layer1.1.bn2.weight False\n",
      "14 layer1.1.bn2.bias False\n",
      "15 layer2.0.conv1.weight False\n",
      "16 layer2.0.bn1.weight False\n",
      "17 layer2.0.bn1.bias False\n",
      "18 layer2.0.conv2.weight False\n",
      "19 layer2.0.bn2.weight False\n",
      "20 layer2.0.bn2.bias False\n",
      "21 layer2.0.downsample.0.weight False\n",
      "22 layer2.0.downsample.1.weight False\n",
      "23 layer2.0.downsample.1.bias False\n",
      "24 layer2.1.conv1.weight False\n",
      "25 layer2.1.bn1.weight False\n",
      "26 layer2.1.bn1.bias False\n",
      "27 layer2.1.conv2.weight False\n",
      "28 layer2.1.bn2.weight False\n",
      "29 layer2.1.bn2.bias False\n",
      "30 layer3.0.conv1.weight False\n",
      "31 layer3.0.bn1.weight False\n",
      "32 layer3.0.bn1.bias False\n",
      "33 layer3.0.conv2.weight False\n",
      "34 layer3.0.bn2.weight False\n",
      "35 layer3.0.bn2.bias False\n",
      "36 layer3.0.downsample.0.weight False\n",
      "37 layer3.0.downsample.1.weight False\n",
      "38 layer3.0.downsample.1.bias False\n",
      "39 layer3.1.conv1.weight False\n",
      "40 layer3.1.bn1.weight False\n",
      "41 layer3.1.bn1.bias False\n",
      "42 layer3.1.conv2.weight False\n",
      "43 layer3.1.bn2.weight False\n",
      "44 layer3.1.bn2.bias False\n",
      "45 layer4.0.conv1.weight False\n",
      "46 layer4.0.bn1.weight False\n",
      "47 layer4.0.bn1.bias False\n",
      "48 layer4.0.conv2.weight False\n",
      "49 layer4.0.bn2.weight False\n",
      "50 layer4.0.bn2.bias False\n",
      "51 layer4.0.downsample.0.weight False\n",
      "52 layer4.0.downsample.1.weight False\n",
      "53 layer4.0.downsample.1.bias False\n",
      "54 layer4.1.conv1.weight False\n",
      "55 layer4.1.bn1.weight False\n",
      "56 layer4.1.bn1.bias False\n",
      "57 layer4.1.conv2.weight False\n",
      "58 layer4.1.bn2.weight True\n",
      "59 layer4.1.bn2.bias True\n",
      "60 fc.weight True\n",
      "61 fc.bias True\n"
     ]
    }
   ],
   "source": [
    "for idx, (i, l) in enumerate(ft_model.named_parameters()):\n",
    "    if idx > 57:\n",
    "        l.requires_grad = True\n",
    "    print(idx, i, l.requires_grad)\n",
    "\n",
    "params_to_update = []\n",
    "\n",
    "for param in ft_model.parameters():\n",
    "    if param.requires_grad == True:\n",
    "        params_to_update.append(param)\n",
    "        \n",
    "optimizer = optim.AdamW(params_to_update, lr=0.01)"
   ]
  },
  {
   "cell_type": "code",
   "execution_count": 32,
   "id": "3aa33e9e-0658-4a33-9fe4-f51f5c03ae06",
   "metadata": {},
   "outputs": [
    {
     "data": {
      "application/vnd.jupyter.widget-view+json": {
       "model_id": "4d8e4dff4614443fbbcfdab0fb0950c5",
       "version_major": 2,
       "version_minor": 0
      },
      "text/plain": [
       "  0%|          | 0/625 [00:00<?, ?it/s]"
      ]
     },
     "metadata": {},
     "output_type": "display_data"
    },
    {
     "data": {
      "application/vnd.jupyter.widget-view+json": {
       "model_id": "8452e84ec6874ab7a0ef3b993e5e24d4",
       "version_major": 2,
       "version_minor": 0
      },
      "text/plain": [
       "  0%|          | 0/209 [00:00<?, ?it/s]"
      ]
     },
     "metadata": {},
     "output_type": "display_data"
    },
    {
     "name": "stdout",
     "output_type": "stream",
     "text": [
      "train_acc: 0.9618,  valid_acc = 0.9742\n"
     ]
    },
    {
     "data": {
      "application/vnd.jupyter.widget-view+json": {
       "model_id": "19f91ea5e6134c41a1f7b41e3942a010",
       "version_major": 2,
       "version_minor": 0
      },
      "text/plain": [
       "  0%|          | 0/625 [00:00<?, ?it/s]"
      ]
     },
     "metadata": {},
     "output_type": "display_data"
    },
    {
     "data": {
      "application/vnd.jupyter.widget-view+json": {
       "model_id": "db7ffba4d1e742b681c9ff87ba43d079",
       "version_major": 2,
       "version_minor": 0
      },
      "text/plain": [
       "  0%|          | 0/209 [00:00<?, ?it/s]"
      ]
     },
     "metadata": {},
     "output_type": "display_data"
    },
    {
     "name": "stdout",
     "output_type": "stream",
     "text": [
      "train_acc: 0.9635,  valid_acc = 0.9729\n"
     ]
    },
    {
     "data": {
      "application/vnd.jupyter.widget-view+json": {
       "model_id": "9ff33cde64554f2395315a75c8bcdd31",
       "version_major": 2,
       "version_minor": 0
      },
      "text/plain": [
       "  0%|          | 0/625 [00:00<?, ?it/s]"
      ]
     },
     "metadata": {},
     "output_type": "display_data"
    },
    {
     "data": {
      "application/vnd.jupyter.widget-view+json": {
       "model_id": "2727a7c9bfa74ddbb180cdbd436e48ce",
       "version_major": 2,
       "version_minor": 0
      },
      "text/plain": [
       "  0%|          | 0/209 [00:00<?, ?it/s]"
      ]
     },
     "metadata": {},
     "output_type": "display_data"
    },
    {
     "name": "stdout",
     "output_type": "stream",
     "text": [
      "train_acc: 0.9647,  valid_acc = 0.9730\n"
     ]
    },
    {
     "data": {
      "application/vnd.jupyter.widget-view+json": {
       "model_id": "a7384a915df44140a33681834cb04952",
       "version_major": 2,
       "version_minor": 0
      },
      "text/plain": [
       "  0%|          | 0/625 [00:00<?, ?it/s]"
      ]
     },
     "metadata": {},
     "output_type": "display_data"
    },
    {
     "data": {
      "application/vnd.jupyter.widget-view+json": {
       "model_id": "b3952ede4e774c73b167fe630c8ce88b",
       "version_major": 2,
       "version_minor": 0
      },
      "text/plain": [
       "  0%|          | 0/209 [00:00<?, ?it/s]"
      ]
     },
     "metadata": {},
     "output_type": "display_data"
    },
    {
     "name": "stdout",
     "output_type": "stream",
     "text": [
      "train_acc: 0.9625,  valid_acc = 0.9710\n"
     ]
    },
    {
     "data": {
      "application/vnd.jupyter.widget-view+json": {
       "model_id": "9b0464efff59498fb08c0791e1a60c01",
       "version_major": 2,
       "version_minor": 0
      },
      "text/plain": [
       "  0%|          | 0/625 [00:00<?, ?it/s]"
      ]
     },
     "metadata": {},
     "output_type": "display_data"
    },
    {
     "data": {
      "application/vnd.jupyter.widget-view+json": {
       "model_id": "5c5fc6a0d3994508b16e60b3da8c57c5",
       "version_major": 2,
       "version_minor": 0
      },
      "text/plain": [
       "  0%|          | 0/209 [00:00<?, ?it/s]"
      ]
     },
     "metadata": {},
     "output_type": "display_data"
    },
    {
     "name": "stdout",
     "output_type": "stream",
     "text": [
      "train_acc: 0.9634,  valid_acc = 0.9758\n"
     ]
    },
    {
     "data": {
      "application/vnd.jupyter.widget-view+json": {
       "model_id": "bf8f98c8108f4f809604f4f90b8f4643",
       "version_major": 2,
       "version_minor": 0
      },
      "text/plain": [
       "  0%|          | 0/625 [00:00<?, ?it/s]"
      ]
     },
     "metadata": {},
     "output_type": "display_data"
    },
    {
     "data": {
      "application/vnd.jupyter.widget-view+json": {
       "model_id": "8f4e515a05fe4aa1bdf4306b0d53b6ba",
       "version_major": 2,
       "version_minor": 0
      },
      "text/plain": [
       "  0%|          | 0/209 [00:00<?, ?it/s]"
      ]
     },
     "metadata": {},
     "output_type": "display_data"
    },
    {
     "name": "stdout",
     "output_type": "stream",
     "text": [
      "train_acc: 0.9663,  valid_acc = 0.9721\n"
     ]
    },
    {
     "data": {
      "application/vnd.jupyter.widget-view+json": {
       "model_id": "27228f4c375f44de8e88ee0ec3f9a231",
       "version_major": 2,
       "version_minor": 0
      },
      "text/plain": [
       "  0%|          | 0/625 [00:00<?, ?it/s]"
      ]
     },
     "metadata": {},
     "output_type": "display_data"
    },
    {
     "data": {
      "application/vnd.jupyter.widget-view+json": {
       "model_id": "3f3b42368b4a407587478c428be360d8",
       "version_major": 2,
       "version_minor": 0
      },
      "text/plain": [
       "  0%|          | 0/209 [00:00<?, ?it/s]"
      ]
     },
     "metadata": {},
     "output_type": "display_data"
    },
    {
     "name": "stdout",
     "output_type": "stream",
     "text": [
      "train_acc: 0.9643,  valid_acc = 0.9721\n"
     ]
    },
    {
     "data": {
      "application/vnd.jupyter.widget-view+json": {
       "model_id": "f46697102fe4452f844f9684c623fd8f",
       "version_major": 2,
       "version_minor": 0
      },
      "text/plain": [
       "  0%|          | 0/625 [00:00<?, ?it/s]"
      ]
     },
     "metadata": {},
     "output_type": "display_data"
    },
    {
     "data": {
      "application/vnd.jupyter.widget-view+json": {
       "model_id": "70c2bccf9b484e3eb096cc8b29a3ca75",
       "version_major": 2,
       "version_minor": 0
      },
      "text/plain": [
       "  0%|          | 0/209 [00:00<?, ?it/s]"
      ]
     },
     "metadata": {},
     "output_type": "display_data"
    },
    {
     "name": "stdout",
     "output_type": "stream",
     "text": [
      "train_acc: 0.9637,  valid_acc = 0.9711\n"
     ]
    },
    {
     "data": {
      "application/vnd.jupyter.widget-view+json": {
       "model_id": "cd4bd549c634491daffa2ca3be1fe349",
       "version_major": 2,
       "version_minor": 0
      },
      "text/plain": [
       "  0%|          | 0/625 [00:00<?, ?it/s]"
      ]
     },
     "metadata": {},
     "output_type": "display_data"
    },
    {
     "data": {
      "application/vnd.jupyter.widget-view+json": {
       "model_id": "00516112d7074986a7c7691b8edb485f",
       "version_major": 2,
       "version_minor": 0
      },
      "text/plain": [
       "  0%|          | 0/209 [00:00<?, ?it/s]"
      ]
     },
     "metadata": {},
     "output_type": "display_data"
    },
    {
     "name": "stdout",
     "output_type": "stream",
     "text": [
      "train_acc: 0.9666,  valid_acc = 0.9748\n"
     ]
    },
    {
     "data": {
      "application/vnd.jupyter.widget-view+json": {
       "model_id": "6287e66c198a47e39c46d63c0b977189",
       "version_major": 2,
       "version_minor": 0
      },
      "text/plain": [
       "  0%|          | 0/625 [00:00<?, ?it/s]"
      ]
     },
     "metadata": {},
     "output_type": "display_data"
    },
    {
     "data": {
      "application/vnd.jupyter.widget-view+json": {
       "model_id": "dcea3faa10c74b1b91d73dccbd6ecdf9",
       "version_major": 2,
       "version_minor": 0
      },
      "text/plain": [
       "  0%|          | 0/209 [00:00<?, ?it/s]"
      ]
     },
     "metadata": {},
     "output_type": "display_data"
    },
    {
     "name": "stdout",
     "output_type": "stream",
     "text": [
      "train_acc: 0.9658,  valid_acc = 0.9750\n"
     ]
    }
   ],
   "source": [
    "tlft_bin = []\n",
    "vlft_bin = []\n",
    "taft_bin = []\n",
    "vaft_bin = []\n",
    "num_epochs = 10\n",
    "\n",
    "for i in range(10, 10+num_epochs):\n",
    "    train_loss, train_acc, valid_loss, valid_acc = one_pass_train_valid(ft_model, train_dl, valid_dl, optimizer, lossFun, class_type='binary', device=device)\n",
    "    print(f\"train_acc: {train_acc:.4f},  valid_acc = {valid_acc:.4f}\")\n",
    "    tlft_bin.append(train_loss)\n",
    "    vlft_bin.append(valid_loss)\n",
    "    taft_bin.append(train_acc)\n",
    "    vaft_bin.append(valid_acc)\n",
    "    model_name = f'models/resnet18/8112021_epoch_{i}_tacc_{train_acc:.3f}_vacc_{valid_acc:.3f}.pkl'\n",
    "    pickle.dump(ft_model, open(model_name, 'wb'))"
   ]
  },
  {
   "cell_type": "code",
   "execution_count": 57,
   "id": "b244d6ac-24bb-48c6-a98c-7458874d019b",
   "metadata": {},
   "outputs": [
    {
     "data": {
      "image/png": "[encoded data removed]",
      "text/plain": [
       "<Figure size 432x288 with 1 Axes>"
      ]
     },
     "metadata": {},
     "output_type": "display_data"
    }
   ],
   "source": [
    "plt.plot(vaft_bin, label = 'train')\n",
    "plt.plot(taft_bin, label = 'valid')\n",
    "plt.legend()\n",
    "plt.xlabel('Epochs')\n",
    "plt.title('Cancer Identification Accuracy')\n",
    "plt.savefig('figures/cancer_identification_accuracy_ft.png')"
   ]
  },
  {
   "cell_type": "code",
   "execution_count": 50,
   "id": "6bfb057f-d1f8-4204-bbe3-9e28fc0896f4",
   "metadata": {},
   "outputs": [],
   "source": [
    "taft2_bin = taft_bin[:5].copy()\n",
    "vaft2_bin = vaft_bin[:5].copy()"
   ]
  },
  {
   "cell_type": "code",
   "execution_count": 51,
   "id": "606de354-9cef-414b-9400-05d530cc4ec9",
   "metadata": {},
   "outputs": [
    {
     "name": "stdout",
     "output_type": "stream",
     "text": [
      "0 conv1.weight False\n",
      "1 bn1.weight False\n",
      "2 bn1.bias False\n",
      "3 layer1.0.conv1.weight False\n",
      "4 layer1.0.bn1.weight False\n",
      "5 layer1.0.bn1.bias False\n",
      "6 layer1.0.conv2.weight False\n",
      "7 layer1.0.bn2.weight False\n",
      "8 layer1.0.bn2.bias False\n",
      "9 layer1.1.conv1.weight False\n",
      "10 layer1.1.bn1.weight False\n",
      "11 layer1.1.bn1.bias False\n",
      "12 layer1.1.conv2.weight False\n",
      "13 layer1.1.bn2.weight False\n",
      "14 layer1.1.bn2.bias False\n",
      "15 layer2.0.conv1.weight False\n",
      "16 layer2.0.bn1.weight False\n",
      "17 layer2.0.bn1.bias False\n",
      "18 layer2.0.conv2.weight False\n",
      "19 layer2.0.bn2.weight False\n",
      "20 layer2.0.bn2.bias False\n",
      "21 layer2.0.downsample.0.weight False\n",
      "22 layer2.0.downsample.1.weight False\n",
      "23 layer2.0.downsample.1.bias False\n",
      "24 layer2.1.conv1.weight False\n",
      "25 layer2.1.bn1.weight False\n",
      "26 layer2.1.bn1.bias False\n",
      "27 layer2.1.conv2.weight False\n",
      "28 layer2.1.bn2.weight False\n",
      "29 layer2.1.bn2.bias False\n",
      "30 layer3.0.conv1.weight False\n",
      "31 layer3.0.bn1.weight False\n",
      "32 layer3.0.bn1.bias False\n",
      "33 layer3.0.conv2.weight False\n",
      "34 layer3.0.bn2.weight False\n",
      "35 layer3.0.bn2.bias False\n",
      "36 layer3.0.downsample.0.weight False\n",
      "37 layer3.0.downsample.1.weight False\n",
      "38 layer3.0.downsample.1.bias False\n",
      "39 layer3.1.conv1.weight False\n",
      "40 layer3.1.bn1.weight False\n",
      "41 layer3.1.bn1.bias False\n",
      "42 layer3.1.conv2.weight False\n",
      "43 layer3.1.bn2.weight False\n",
      "44 layer3.1.bn2.bias False\n",
      "45 layer4.0.conv1.weight False\n",
      "46 layer4.0.bn1.weight False\n",
      "47 layer4.0.bn1.bias False\n",
      "48 layer4.0.conv2.weight False\n",
      "49 layer4.0.bn2.weight False\n",
      "50 layer4.0.bn2.bias False\n",
      "51 layer4.0.downsample.0.weight False\n",
      "52 layer4.0.downsample.1.weight False\n",
      "53 layer4.0.downsample.1.bias False\n",
      "54 layer4.1.conv1.weight False\n",
      "55 layer4.1.bn1.weight False\n",
      "56 layer4.1.bn1.bias False\n",
      "57 layer4.1.conv2.weight True\n",
      "58 layer4.1.bn2.weight True\n",
      "59 layer4.1.bn2.bias True\n",
      "60 fc.weight True\n",
      "61 fc.bias True\n"
     ]
    }
   ],
   "source": [
    "filename = './models/resnet18/8112021_epoch_14_tacc_0.963_vacc_0.976.pkl'\n",
    "ft2_model = pickle.load(open(filename, 'rb'))\n",
    "\n",
    "for idx, (i, l) in enumerate(ft2_model.named_parameters()):\n",
    "    if idx > 56:\n",
    "        l.requires_grad = True\n",
    "    print(idx, i, l.requires_grad)\n",
    "\n",
    "params_to_update = []\n",
    "\n",
    "for param in ft_model.parameters():\n",
    "    if param.requires_grad == True:\n",
    "        params_to_update.append(param)\n",
    "        \n",
    "optimizer = optim.AdamW(params_to_update, lr=0.001)"
   ]
  },
  {
   "cell_type": "code",
   "execution_count": 52,
   "id": "e6e80bc8-e271-4acf-9e70-907d2abca812",
   "metadata": {},
   "outputs": [
    {
     "data": {
      "application/vnd.jupyter.widget-view+json": {
       "model_id": "01d9d8cbd56a4a7d9855c2f1f3a75d71",
       "version_major": 2,
       "version_minor": 0
      },
      "text/plain": [
       "  0%|          | 0/625 [00:00<?, ?it/s]"
      ]
     },
     "metadata": {},
     "output_type": "display_data"
    },
    {
     "data": {
      "application/vnd.jupyter.widget-view+json": {
       "model_id": "c77c88f38ff94dd99f53b02770d0f814",
       "version_major": 2,
       "version_minor": 0
      },
      "text/plain": [
       "  0%|          | 0/209 [00:00<?, ?it/s]"
      ]
     },
     "metadata": {},
     "output_type": "display_data"
    },
    {
     "name": "stdout",
     "output_type": "stream",
     "text": [
      "train_acc: 0.9652,  valid_acc = 0.9689\n"
     ]
    },
    {
     "data": {
      "application/vnd.jupyter.widget-view+json": {
       "model_id": "13e579ac0703408b82d9fdd780c4db1e",
       "version_major": 2,
       "version_minor": 0
      },
      "text/plain": [
       "  0%|          | 0/625 [00:00<?, ?it/s]"
      ]
     },
     "metadata": {},
     "output_type": "display_data"
    },
    {
     "data": {
      "application/vnd.jupyter.widget-view+json": {
       "model_id": "10326a5f726244168cf40094d0859655",
       "version_major": 2,
       "version_minor": 0
      },
      "text/plain": [
       "  0%|          | 0/209 [00:00<?, ?it/s]"
      ]
     },
     "metadata": {},
     "output_type": "display_data"
    },
    {
     "name": "stdout",
     "output_type": "stream",
     "text": [
      "train_acc: 0.9648,  valid_acc = 0.9703\n"
     ]
    },
    {
     "data": {
      "application/vnd.jupyter.widget-view+json": {
       "model_id": "d5a72aa5a84244ebac5761af0596fee8",
       "version_major": 2,
       "version_minor": 0
      },
      "text/plain": [
       "  0%|          | 0/625 [00:00<?, ?it/s]"
      ]
     },
     "metadata": {},
     "output_type": "display_data"
    },
    {
     "data": {
      "application/vnd.jupyter.widget-view+json": {
       "model_id": "9bb694f499da4855a923e8167de418bf",
       "version_major": 2,
       "version_minor": 0
      },
      "text/plain": [
       "  0%|          | 0/209 [00:00<?, ?it/s]"
      ]
     },
     "metadata": {},
     "output_type": "display_data"
    },
    {
     "name": "stdout",
     "output_type": "stream",
     "text": [
      "train_acc: 0.9648,  valid_acc = 0.9707\n"
     ]
    },
    {
     "data": {
      "application/vnd.jupyter.widget-view+json": {
       "model_id": "976d424f9d8b43dc89bfb2fd029f733f",
       "version_major": 2,
       "version_minor": 0
      },
      "text/plain": [
       "  0%|          | 0/625 [00:00<?, ?it/s]"
      ]
     },
     "metadata": {},
     "output_type": "display_data"
    },
    {
     "data": {
      "application/vnd.jupyter.widget-view+json": {
       "model_id": "0bc1a4cbb8d944a59a66442ecc31818d",
       "version_major": 2,
       "version_minor": 0
      },
      "text/plain": [
       "  0%|          | 0/209 [00:00<?, ?it/s]"
      ]
     },
     "metadata": {},
     "output_type": "display_data"
    },
    {
     "name": "stdout",
     "output_type": "stream",
     "text": [
      "train_acc: 0.9642,  valid_acc = 0.9711\n"
     ]
    },
    {
     "data": {
      "application/vnd.jupyter.widget-view+json": {
       "model_id": "2bc1f86b71e1454d9bb2037ba2743c24",
       "version_major": 2,
       "version_minor": 0
      },
      "text/plain": [
       "  0%|          | 0/625 [00:00<?, ?it/s]"
      ]
     },
     "metadata": {},
     "output_type": "display_data"
    },
    {
     "data": {
      "application/vnd.jupyter.widget-view+json": {
       "model_id": "ee6d8d10649f44598c364b23889b52ae",
       "version_major": 2,
       "version_minor": 0
      },
      "text/plain": [
       "  0%|          | 0/209 [00:00<?, ?it/s]"
      ]
     },
     "metadata": {},
     "output_type": "display_data"
    },
    {
     "name": "stdout",
     "output_type": "stream",
     "text": [
      "train_acc: 0.9626,  valid_acc = 0.9750\n"
     ]
    }
   ],
   "source": [
    "num_epochs = 5\n",
    "\n",
    "for i in range(15, 15+num_epochs):\n",
    "    train_loss, train_acc, valid_loss, valid_acc = one_pass_train_valid(ft2_model, train_dl, valid_dl, optimizer, lossFun, class_type='binary', device=device)\n",
    "    print(f\"train_acc: {train_acc:.4f},  valid_acc = {valid_acc:.4f}\")\n",
    "#     tlft_bin.append(train_loss)\n",
    "#     vlft_bin.append(valid_loss)\n",
    "    taft2_bin.append(train_acc)\n",
    "    vaft2_bin.append(valid_acc)\n",
    "    model_name = f'models/resnet18/8112021_epoch_{i}_tacc_{train_acc:.3f}_vacc_{valid_acc:.3f}.pkl'\n",
    "    pickle.dump(ft_model, open(model_name, 'wb'))"
   ]
  },
  {
   "cell_type": "code",
   "execution_count": 53,
   "id": "e5080a82-2722-4128-9824-a83ddf7fc337",
   "metadata": {
    "collapsed": true,
    "jupyter": {
     "outputs_hidden": true
    },
    "tags": []
   },
   "outputs": [
    {
     "name": "stdout",
     "output_type": "stream",
     "text": [
      "0 conv1.weight False\n",
      "1 bn1.weight False\n",
      "2 bn1.bias False\n",
      "3 layer1.0.conv1.weight False\n",
      "4 layer1.0.bn1.weight False\n",
      "5 layer1.0.bn1.bias False\n",
      "6 layer1.0.conv2.weight False\n",
      "7 layer1.0.bn2.weight False\n",
      "8 layer1.0.bn2.bias False\n",
      "9 layer1.1.conv1.weight False\n",
      "10 layer1.1.bn1.weight False\n",
      "11 layer1.1.bn1.bias False\n",
      "12 layer1.1.conv2.weight False\n",
      "13 layer1.1.bn2.weight False\n",
      "14 layer1.1.bn2.bias False\n",
      "15 layer2.0.conv1.weight False\n",
      "16 layer2.0.bn1.weight False\n",
      "17 layer2.0.bn1.bias False\n",
      "18 layer2.0.conv2.weight False\n",
      "19 layer2.0.bn2.weight False\n",
      "20 layer2.0.bn2.bias False\n",
      "21 layer2.0.downsample.0.weight False\n",
      "22 layer2.0.downsample.1.weight False\n",
      "23 layer2.0.downsample.1.bias False\n",
      "24 layer2.1.conv1.weight False\n",
      "25 layer2.1.bn1.weight False\n",
      "26 layer2.1.bn1.bias False\n",
      "27 layer2.1.conv2.weight False\n",
      "28 layer2.1.bn2.weight False\n",
      "29 layer2.1.bn2.bias False\n",
      "30 layer3.0.conv1.weight False\n",
      "31 layer3.0.bn1.weight False\n",
      "32 layer3.0.bn1.bias False\n",
      "33 layer3.0.conv2.weight False\n",
      "34 layer3.0.bn2.weight False\n",
      "35 layer3.0.bn2.bias False\n",
      "36 layer3.0.downsample.0.weight False\n",
      "37 layer3.0.downsample.1.weight False\n",
      "38 layer3.0.downsample.1.bias False\n",
      "39 layer3.1.conv1.weight False\n",
      "40 layer3.1.bn1.weight False\n",
      "41 layer3.1.bn1.bias False\n",
      "42 layer3.1.conv2.weight False\n",
      "43 layer3.1.bn2.weight False\n",
      "44 layer3.1.bn2.bias False\n",
      "45 layer4.0.conv1.weight False\n",
      "46 layer4.0.bn1.weight False\n",
      "47 layer4.0.bn1.bias False\n",
      "48 layer4.0.conv2.weight False\n",
      "49 layer4.0.bn2.weight False\n",
      "50 layer4.0.bn2.bias False\n",
      "51 layer4.0.downsample.0.weight False\n",
      "52 layer4.0.downsample.1.weight False\n",
      "53 layer4.0.downsample.1.bias False\n",
      "54 layer4.1.conv1.weight False\n",
      "55 layer4.1.bn1.weight True\n",
      "56 layer4.1.bn1.bias True\n",
      "57 layer4.1.conv2.weight True\n",
      "58 layer4.1.bn2.weight True\n",
      "59 layer4.1.bn2.bias True\n",
      "60 fc.weight True\n",
      "61 fc.bias True\n"
     ]
    }
   ],
   "source": [
    "# filename = './models/resnet18/8112021_epoch_14_tacc_0.963_vacc_0.976.pkl'\n",
    "# ft2_model = pickle.load(open(filename, 'rb'))\n",
    "\n",
    "for idx, (i, l) in enumerate(ft2_model.named_parameters()):\n",
    "    if idx > 54:\n",
    "        l.requires_grad = True\n",
    "    print(idx, i, l.requires_grad)\n",
    "\n",
    "params_to_update = []\n",
    "\n",
    "for param in ft_model.parameters():\n",
    "    if param.requires_grad == True:\n",
    "        params_to_update.append(param)\n",
    "        \n",
    "optimizer = optim.AdamW(params_to_update, lr=0.001)"
   ]
  },
  {
   "cell_type": "code",
   "execution_count": 54,
   "id": "e96cfac2-f615-413c-b968-bdfa0430aacb",
   "metadata": {},
   "outputs": [
    {
     "data": {
      "application/vnd.jupyter.widget-view+json": {
       "model_id": "2f24ddedb57f45a3b7020800f2ea7cd8",
       "version_major": 2,
       "version_minor": 0
      },
      "text/plain": [
       "  0%|          | 0/625 [00:00<?, ?it/s]"
      ]
     },
     "metadata": {},
     "output_type": "display_data"
    },
    {
     "data": {
      "application/vnd.jupyter.widget-view+json": {
       "model_id": "cf940256d0324fe9adbe9c87c5233409",
       "version_major": 2,
       "version_minor": 0
      },
      "text/plain": [
       "  0%|          | 0/209 [00:00<?, ?it/s]"
      ]
     },
     "metadata": {},
     "output_type": "display_data"
    },
    {
     "name": "stdout",
     "output_type": "stream",
     "text": [
      "train_acc: 0.9646,  valid_acc = 0.9705\n"
     ]
    },
    {
     "data": {
      "application/vnd.jupyter.widget-view+json": {
       "model_id": "b727d937676b402f8659b910ee6d8770",
       "version_major": 2,
       "version_minor": 0
      },
      "text/plain": [
       "  0%|          | 0/625 [00:00<?, ?it/s]"
      ]
     },
     "metadata": {},
     "output_type": "display_data"
    },
    {
     "data": {
      "application/vnd.jupyter.widget-view+json": {
       "model_id": "e113f9775b57432d8666ffd035b57fc0",
       "version_major": 2,
       "version_minor": 0
      },
      "text/plain": [
       "  0%|          | 0/209 [00:00<?, ?it/s]"
      ]
     },
     "metadata": {},
     "output_type": "display_data"
    },
    {
     "name": "stdout",
     "output_type": "stream",
     "text": [
      "train_acc: 0.9631,  valid_acc = 0.9735\n"
     ]
    },
    {
     "data": {
      "application/vnd.jupyter.widget-view+json": {
       "model_id": "347428daaa7440ebbc79ae318d69f03a",
       "version_major": 2,
       "version_minor": 0
      },
      "text/plain": [
       "  0%|          | 0/625 [00:00<?, ?it/s]"
      ]
     },
     "metadata": {},
     "output_type": "display_data"
    },
    {
     "data": {
      "application/vnd.jupyter.widget-view+json": {
       "model_id": "cff953b2b645482fb84ccd6bcf5a1f57",
       "version_major": 2,
       "version_minor": 0
      },
      "text/plain": [
       "  0%|          | 0/209 [00:00<?, ?it/s]"
      ]
     },
     "metadata": {},
     "output_type": "display_data"
    },
    {
     "name": "stdout",
     "output_type": "stream",
     "text": [
      "train_acc: 0.9649,  valid_acc = 0.9710\n"
     ]
    },
    {
     "data": {
      "application/vnd.jupyter.widget-view+json": {
       "model_id": "08843581d53a4a6f83a808d01979e44e",
       "version_major": 2,
       "version_minor": 0
      },
      "text/plain": [
       "  0%|          | 0/625 [00:00<?, ?it/s]"
      ]
     },
     "metadata": {},
     "output_type": "display_data"
    },
    {
     "data": {
      "application/vnd.jupyter.widget-view+json": {
       "model_id": "1ef8a1fc4507491c9a6d26a5fc999ee4",
       "version_major": 2,
       "version_minor": 0
      },
      "text/plain": [
       "  0%|          | 0/209 [00:00<?, ?it/s]"
      ]
     },
     "metadata": {},
     "output_type": "display_data"
    },
    {
     "name": "stdout",
     "output_type": "stream",
     "text": [
      "train_acc: 0.9654,  valid_acc = 0.9721\n"
     ]
    },
    {
     "data": {
      "application/vnd.jupyter.widget-view+json": {
       "model_id": "26bf9a5060cd4676ad4be79e18774e14",
       "version_major": 2,
       "version_minor": 0
      },
      "text/plain": [
       "  0%|          | 0/625 [00:00<?, ?it/s]"
      ]
     },
     "metadata": {},
     "output_type": "display_data"
    },
    {
     "data": {
      "application/vnd.jupyter.widget-view+json": {
       "model_id": "2da8a8314fcf4e098d67af207142fd0c",
       "version_major": 2,
       "version_minor": 0
      },
      "text/plain": [
       "  0%|          | 0/209 [00:00<?, ?it/s]"
      ]
     },
     "metadata": {},
     "output_type": "display_data"
    },
    {
     "name": "stdout",
     "output_type": "stream",
     "text": [
      "train_acc: 0.9624,  valid_acc = 0.9713\n"
     ]
    },
    {
     "data": {
      "application/vnd.jupyter.widget-view+json": {
       "model_id": "ed4fc58d89ac4afeaf6f5bd17b937b07",
       "version_major": 2,
       "version_minor": 0
      },
      "text/plain": [
       "  0%|          | 0/625 [00:00<?, ?it/s]"
      ]
     },
     "metadata": {},
     "output_type": "display_data"
    },
    {
     "data": {
      "application/vnd.jupyter.widget-view+json": {
       "model_id": "9193e561e61e47c494d2fb58f7479bf4",
       "version_major": 2,
       "version_minor": 0
      },
      "text/plain": [
       "  0%|          | 0/209 [00:00<?, ?it/s]"
      ]
     },
     "metadata": {},
     "output_type": "display_data"
    },
    {
     "name": "stdout",
     "output_type": "stream",
     "text": [
      "train_acc: 0.9651,  valid_acc = 0.9703\n"
     ]
    },
    {
     "data": {
      "application/vnd.jupyter.widget-view+json": {
       "model_id": "330419261e744d5d964af8e07f1f2791",
       "version_major": 2,
       "version_minor": 0
      },
      "text/plain": [
       "  0%|          | 0/625 [00:00<?, ?it/s]"
      ]
     },
     "metadata": {},
     "output_type": "display_data"
    },
    {
     "data": {
      "application/vnd.jupyter.widget-view+json": {
       "model_id": "b056edc88c69465f942d960c61ab6c00",
       "version_major": 2,
       "version_minor": 0
      },
      "text/plain": [
       "  0%|          | 0/209 [00:00<?, ?it/s]"
      ]
     },
     "metadata": {},
     "output_type": "display_data"
    },
    {
     "name": "stdout",
     "output_type": "stream",
     "text": [
      "train_acc: 0.9642,  valid_acc = 0.9726\n"
     ]
    },
    {
     "data": {
      "application/vnd.jupyter.widget-view+json": {
       "model_id": "6366c8c33b5b4a65b0cbc7fd059fa33b",
       "version_major": 2,
       "version_minor": 0
      },
      "text/plain": [
       "  0%|          | 0/625 [00:00<?, ?it/s]"
      ]
     },
     "metadata": {},
     "output_type": "display_data"
    },
    {
     "data": {
      "application/vnd.jupyter.widget-view+json": {
       "model_id": "a2cd5681193440f98c6a3a162dbea25c",
       "version_major": 2,
       "version_minor": 0
      },
      "text/plain": [
       "  0%|          | 0/209 [00:00<?, ?it/s]"
      ]
     },
     "metadata": {},
     "output_type": "display_data"
    },
    {
     "name": "stdout",
     "output_type": "stream",
     "text": [
      "train_acc: 0.9652,  valid_acc = 0.9738\n"
     ]
    },
    {
     "data": {
      "application/vnd.jupyter.widget-view+json": {
       "model_id": "0ee94de9e1244e95868807d9d162e855",
       "version_major": 2,
       "version_minor": 0
      },
      "text/plain": [
       "  0%|          | 0/625 [00:00<?, ?it/s]"
      ]
     },
     "metadata": {},
     "output_type": "display_data"
    },
    {
     "data": {
      "application/vnd.jupyter.widget-view+json": {
       "model_id": "b65da906111845dda76aeab960e6b5ec",
       "version_major": 2,
       "version_minor": 0
      },
      "text/plain": [
       "  0%|          | 0/209 [00:00<?, ?it/s]"
      ]
     },
     "metadata": {},
     "output_type": "display_data"
    },
    {
     "name": "stdout",
     "output_type": "stream",
     "text": [
      "train_acc: 0.9649,  valid_acc = 0.9735\n"
     ]
    },
    {
     "data": {
      "application/vnd.jupyter.widget-view+json": {
       "model_id": "8f82163f364143e78065adc404dcbb90",
       "version_major": 2,
       "version_minor": 0
      },
      "text/plain": [
       "  0%|          | 0/625 [00:00<?, ?it/s]"
      ]
     },
     "metadata": {},
     "output_type": "display_data"
    },
    {
     "data": {
      "application/vnd.jupyter.widget-view+json": {
       "model_id": "116f6c2530e34791ba1fedaa2b7f9575",
       "version_major": 2,
       "version_minor": 0
      },
      "text/plain": [
       "  0%|          | 0/209 [00:00<?, ?it/s]"
      ]
     },
     "metadata": {},
     "output_type": "display_data"
    },
    {
     "name": "stdout",
     "output_type": "stream",
     "text": [
      "train_acc: 0.9635,  valid_acc = 0.9729\n"
     ]
    }
   ],
   "source": [
    "num_epochs = 10\n",
    "\n",
    "for i in range(20, 20+num_epochs):\n",
    "    train_loss, train_acc, valid_loss, valid_acc = one_pass_train_valid(ft2_model, train_dl, valid_dl, optimizer, lossFun, class_type='binary', device=device)\n",
    "    print(f\"train_acc: {train_acc:.4f},  valid_acc = {valid_acc:.4f}\")\n",
    "#     tlft_bin.append(train_loss)\n",
    "#     vlft_bin.append(valid_loss)\n",
    "    taft2_bin.append(train_acc)\n",
    "    vaft2_bin.append(valid_acc)\n",
    "    model_name = f'models/resnet18/8112021_epoch_{i}_tacc_{train_acc:.3f}_vacc_{valid_acc:.3f}.pkl'\n",
    "    pickle.dump(ft_model, open(model_name, 'wb'))"
   ]
  },
  {
   "cell_type": "code",
   "execution_count": 59,
   "id": "7aea1e89-bee6-4eee-b38b-93dadef0d015",
   "metadata": {},
   "outputs": [
    {
     "data": {
      "image/png": "[encoded data removed]",
      "text/plain": [
       "<Figure size 432x288 with 1 Axes>"
      ]
     },
     "metadata": {},
     "output_type": "display_data"
    }
   ],
   "source": [
    "plt.plot(vaft2_bin, label = 'train')\n",
    "plt.plot(taft2_bin, label = 'valid')\n",
    "plt.legend()\n",
    "plt.xlabel('Epochs')\n",
    "plt.title('Cancer Identification Accuracy (Fine Tuned)')\n",
    "plt.savefig('figures/cancer_identification_accuracy_ft2.png')"
   ]
  },
  {
   "cell_type": "markdown",
   "id": "28bbd6b4-1908-4097-a37c-719892514e0d",
   "metadata": {},
   "source": [
    "# Scenario Two: Binary Classifier For Lung, Colon"
   ]
  },
  {
   "cell_type": "markdown",
   "id": "2544f8bf-2a94-4aa6-8678-de8de758a2e0",
   "metadata": {},
   "source": [
    "Making Predictions:\n",
    "----\n",
    "\n",
    "- The accuracy will be weighed by the number of predictions for each dataset:\n",
    "\n",
    "$$accuracy = \\frac{len(colon_{valid}) * acc_{colon} + len(lung_{valid}) * acc_{lung}}{len(colon_{valid})+len(lung_{valid})} $$"
   ]
  },
  {
   "cell_type": "code",
   "execution_count": 11,
   "id": "e622708b-8153-4b91-a9a2-e50031fb1af6",
   "metadata": {},
   "outputs": [
    {
     "data": {
      "text/plain": [
       "Cancer        14999\n",
       "Not Cancer    10000\n",
       "Name: type, dtype: int64"
      ]
     },
     "execution_count": 11,
     "metadata": {},
     "output_type": "execute_result"
    }
   ],
   "source": [
    "df['location'] = df['label'].map(lambda x: x.split(\"_\")[0])\n",
    "df_lung = df[df['location'] == 'lung']\n",
    "df_colon = df[df['location'] == 'colon']\n",
    "df['type'] = df['label'].map(lambda x: 'Not Cancer' if 'n' in x.split('_')[1] else 'Cancer')\n",
    "df['type'].value_counts()"
   ]
  },
  {
   "cell_type": "markdown",
   "id": "ec300f7d-a6e3-43bd-935a-da2472c9a23a",
   "metadata": {},
   "source": [
    "## Lung Classifier:"
   ]
  },
  {
   "cell_type": "code",
   "execution_count": 12,
   "id": "34d53cdb-00fd-4e5d-91fc-52fa463c9031",
   "metadata": {},
   "outputs": [
    {
     "data": {
      "text/html": [
       "<div>\n",
       "<style scoped>\n",
       "    .dataframe tbody tr th:only-of-type {\n",
       "        vertical-align: middle;\n",
       "    }\n",
       "\n",
       "    .dataframe tbody tr th {\n",
       "        vertical-align: top;\n",
       "    }\n",
       "\n",
       "    .dataframe thead th {\n",
       "        text-align: right;\n",
       "    }\n",
       "</style>\n",
       "<table border=\"1\" class=\"dataframe\">\n",
       "  <thead>\n",
       "    <tr style=\"text-align: right;\">\n",
       "      <th></th>\n",
       "      <th>image_file</th>\n",
       "      <th>label</th>\n",
       "      <th>image_path</th>\n",
       "      <th>location</th>\n",
       "      <th>type</th>\n",
       "    </tr>\n",
       "  </thead>\n",
       "  <tbody>\n",
       "    <tr>\n",
       "      <th>0</th>\n",
       "      <td>lungaca1843.jpeg</td>\n",
       "      <td>lung_aca</td>\n",
       "      <td>/home/oniemann/Cancer_Classifier/lung_colon_im...</td>\n",
       "      <td>lung</td>\n",
       "      <td>Cancer</td>\n",
       "    </tr>\n",
       "    <tr>\n",
       "      <th>1</th>\n",
       "      <td>lungaca294.jpeg</td>\n",
       "      <td>lung_aca</td>\n",
       "      <td>/home/oniemann/Cancer_Classifier/lung_colon_im...</td>\n",
       "      <td>lung</td>\n",
       "      <td>Cancer</td>\n",
       "    </tr>\n",
       "    <tr>\n",
       "      <th>2</th>\n",
       "      <td>lungaca3487.jpeg</td>\n",
       "      <td>lung_aca</td>\n",
       "      <td>/home/oniemann/Cancer_Classifier/lung_colon_im...</td>\n",
       "      <td>lung</td>\n",
       "      <td>Cancer</td>\n",
       "    </tr>\n",
       "    <tr>\n",
       "      <th>3</th>\n",
       "      <td>lungaca4342.jpeg</td>\n",
       "      <td>lung_aca</td>\n",
       "      <td>/home/oniemann/Cancer_Classifier/lung_colon_im...</td>\n",
       "      <td>lung</td>\n",
       "      <td>Cancer</td>\n",
       "    </tr>\n",
       "    <tr>\n",
       "      <th>4</th>\n",
       "      <td>lungaca1140.jpeg</td>\n",
       "      <td>lung_aca</td>\n",
       "      <td>/home/oniemann/Cancer_Classifier/lung_colon_im...</td>\n",
       "      <td>lung</td>\n",
       "      <td>Cancer</td>\n",
       "    </tr>\n",
       "  </tbody>\n",
       "</table>\n",
       "</div>"
      ],
      "text/plain": [
       "         image_file     label  \\\n",
       "0  lungaca1843.jpeg  lung_aca   \n",
       "1   lungaca294.jpeg  lung_aca   \n",
       "2  lungaca3487.jpeg  lung_aca   \n",
       "3  lungaca4342.jpeg  lung_aca   \n",
       "4  lungaca1140.jpeg  lung_aca   \n",
       "\n",
       "                                          image_path location    type  \n",
       "0  /home/oniemann/Cancer_Classifier/lung_colon_im...     lung  Cancer  \n",
       "1  /home/oniemann/Cancer_Classifier/lung_colon_im...     lung  Cancer  \n",
       "2  /home/oniemann/Cancer_Classifier/lung_colon_im...     lung  Cancer  \n",
       "3  /home/oniemann/Cancer_Classifier/lung_colon_im...     lung  Cancer  \n",
       "4  /home/oniemann/Cancer_Classifier/lung_colon_im...     lung  Cancer  "
      ]
     },
     "execution_count": 12,
     "metadata": {},
     "output_type": "execute_result"
    }
   ],
   "source": [
    "df_lung.head()"
   ]
  },
  {
   "cell_type": "code",
   "execution_count": 13,
   "id": "b212a767-2823-4d7f-959d-2caa8b22ce3c",
   "metadata": {},
   "outputs": [
    {
     "data": {
      "text/plain": [
       "Cancer        9999\n",
       "Not Cancer    5000\n",
       "Name: type, dtype: int64"
      ]
     },
     "execution_count": 13,
     "metadata": {},
     "output_type": "execute_result"
    }
   ],
   "source": [
    "df_lung['type'].value_counts()"
   ]
  },
  {
   "cell_type": "code",
   "execution_count": 16,
   "id": "70b95191-03eb-4cc1-8e01-922b8809a147",
   "metadata": {},
   "outputs": [],
   "source": [
    "train_df, valid_df = train_test_split(df_lung)\n",
    "\n",
    "train_ds = BinCancerImagesDataset(train_df)\n",
    "valid_ds = BinCancerImagesDataset(valid_df)\n",
    "\n",
    "batch_size= 30\n",
    "train_dl = DataLoader(train_ds, batch_size=batch_size, shuffle=True)\n",
    "valid_dl = DataLoader(valid_ds, batch_size=batch_size)"
   ]
  },
  {
   "cell_type": "code",
   "execution_count": 19,
   "id": "f022613f-3d48-4bf5-a075-c08baf36fa67",
   "metadata": {},
   "outputs": [
    {
     "data": {
      "application/vnd.jupyter.widget-view+json": {
       "model_id": "aef94741fff64ba481ace6cf897fece2",
       "version_major": 2,
       "version_minor": 0
      },
      "text/plain": [
       "  0%|          | 0/375 [00:00<?, ?it/s]"
      ]
     },
     "metadata": {},
     "output_type": "display_data"
    },
    {
     "name": "stderr",
     "output_type": "stream",
     "text": [
      "/home/oniemann/deep_learning/lib64/python3.6/site-packages/torch/nn/functional.py:718: UserWarning: Named tensors and all their associated APIs are an experimental feature and subject to change. Please do not use them for anything important until they are released as stable. (Triggered internally at  /pytorch/c10/core/TensorImpl.h:1156.)\n",
      "  return torch.max_pool2d(input, kernel_size, stride, padding, dilation, ceil_mode)\n"
     ]
    },
    {
     "data": {
      "application/vnd.jupyter.widget-view+json": {
       "model_id": "140a3191ece948738f8c0a29b6a5ba77",
       "version_major": 2,
       "version_minor": 0
      },
      "text/plain": [
       "  0%|          | 0/125 [00:00<?, ?it/s]"
      ]
     },
     "metadata": {},
     "output_type": "display_data"
    },
    {
     "name": "stdout",
     "output_type": "stream",
     "text": [
      "train_acc: 0.9378,  valid_acc = 0.9781\n"
     ]
    },
    {
     "data": {
      "application/vnd.jupyter.widget-view+json": {
       "model_id": "7ef14887e7134cb69304c63ff11ea855",
       "version_major": 2,
       "version_minor": 0
      },
      "text/plain": [
       "  0%|          | 0/375 [00:00<?, ?it/s]"
      ]
     },
     "metadata": {},
     "output_type": "display_data"
    },
    {
     "data": {
      "application/vnd.jupyter.widget-view+json": {
       "model_id": "27e30cf294304fe387ed06918829689b",
       "version_major": 2,
       "version_minor": 0
      },
      "text/plain": [
       "  0%|          | 0/125 [00:00<?, ?it/s]"
      ]
     },
     "metadata": {},
     "output_type": "display_data"
    },
    {
     "name": "stdout",
     "output_type": "stream",
     "text": [
      "train_acc: 0.9732,  valid_acc = 0.9781\n"
     ]
    },
    {
     "data": {
      "application/vnd.jupyter.widget-view+json": {
       "model_id": "4df15a07b22748e89055a0003abfaec5",
       "version_major": 2,
       "version_minor": 0
      },
      "text/plain": [
       "  0%|          | 0/375 [00:00<?, ?it/s]"
      ]
     },
     "metadata": {},
     "output_type": "display_data"
    },
    {
     "data": {
      "application/vnd.jupyter.widget-view+json": {
       "model_id": "d456ebcfd8a942d484e9c2f6e9e10e42",
       "version_major": 2,
       "version_minor": 0
      },
      "text/plain": [
       "  0%|          | 0/125 [00:00<?, ?it/s]"
      ]
     },
     "metadata": {},
     "output_type": "display_data"
    },
    {
     "name": "stdout",
     "output_type": "stream",
     "text": [
      "train_acc: 0.9765,  valid_acc = 0.8549\n"
     ]
    },
    {
     "data": {
      "application/vnd.jupyter.widget-view+json": {
       "model_id": "310f927100e848a6ac997e4e30f95df2",
       "version_major": 2,
       "version_minor": 0
      },
      "text/plain": [
       "  0%|          | 0/375 [00:00<?, ?it/s]"
      ]
     },
     "metadata": {},
     "output_type": "display_data"
    },
    {
     "data": {
      "application/vnd.jupyter.widget-view+json": {
       "model_id": "68a34726ded943199bb8e4176a5701a0",
       "version_major": 2,
       "version_minor": 0
      },
      "text/plain": [
       "  0%|          | 0/125 [00:00<?, ?it/s]"
      ]
     },
     "metadata": {},
     "output_type": "display_data"
    },
    {
     "name": "stdout",
     "output_type": "stream",
     "text": [
      "train_acc: 0.9751,  valid_acc = 0.9725\n"
     ]
    },
    {
     "data": {
      "application/vnd.jupyter.widget-view+json": {
       "model_id": "2790d7f25ca54b82a43078f57be4ea5c",
       "version_major": 2,
       "version_minor": 0
      },
      "text/plain": [
       "  0%|          | 0/375 [00:00<?, ?it/s]"
      ]
     },
     "metadata": {},
     "output_type": "display_data"
    },
    {
     "data": {
      "application/vnd.jupyter.widget-view+json": {
       "model_id": "2c14bdd1a1a04d88a1b17f3d7cde9cf2",
       "version_major": 2,
       "version_minor": 0
      },
      "text/plain": [
       "  0%|          | 0/125 [00:00<?, ?it/s]"
      ]
     },
     "metadata": {},
     "output_type": "display_data"
    },
    {
     "name": "stdout",
     "output_type": "stream",
     "text": [
      "train_acc: 0.9772,  valid_acc = 0.9813\n"
     ]
    },
    {
     "data": {
      "application/vnd.jupyter.widget-view+json": {
       "model_id": "9c2fb9e385684d28ba81c42a2e4de809",
       "version_major": 2,
       "version_minor": 0
      },
      "text/plain": [
       "  0%|          | 0/375 [00:00<?, ?it/s]"
      ]
     },
     "metadata": {},
     "output_type": "display_data"
    },
    {
     "data": {
      "application/vnd.jupyter.widget-view+json": {
       "model_id": "31f51480c1504ee382aa2bcca30fa041",
       "version_major": 2,
       "version_minor": 0
      },
      "text/plain": [
       "  0%|          | 0/125 [00:00<?, ?it/s]"
      ]
     },
     "metadata": {},
     "output_type": "display_data"
    },
    {
     "name": "stdout",
     "output_type": "stream",
     "text": [
      "train_acc: 0.9784,  valid_acc = 0.9803\n"
     ]
    },
    {
     "data": {
      "application/vnd.jupyter.widget-view+json": {
       "model_id": "d15f442020634716add981f7c1997097",
       "version_major": 2,
       "version_minor": 0
      },
      "text/plain": [
       "  0%|          | 0/375 [00:00<?, ?it/s]"
      ]
     },
     "metadata": {},
     "output_type": "display_data"
    },
    {
     "data": {
      "application/vnd.jupyter.widget-view+json": {
       "model_id": "dc85b541a0594fff9585ba714f3e782f",
       "version_major": 2,
       "version_minor": 0
      },
      "text/plain": [
       "  0%|          | 0/125 [00:00<?, ?it/s]"
      ]
     },
     "metadata": {},
     "output_type": "display_data"
    },
    {
     "name": "stdout",
     "output_type": "stream",
     "text": [
      "train_acc: 0.9778,  valid_acc = 0.9861\n"
     ]
    },
    {
     "data": {
      "application/vnd.jupyter.widget-view+json": {
       "model_id": "b4e89511ed15404095846016dbb7eee4",
       "version_major": 2,
       "version_minor": 0
      },
      "text/plain": [
       "  0%|          | 0/375 [00:00<?, ?it/s]"
      ]
     },
     "metadata": {},
     "output_type": "display_data"
    },
    {
     "data": {
      "application/vnd.jupyter.widget-view+json": {
       "model_id": "8d8b1ed371324f01a4de231678d09e04",
       "version_major": 2,
       "version_minor": 0
      },
      "text/plain": [
       "  0%|          | 0/125 [00:00<?, ?it/s]"
      ]
     },
     "metadata": {},
     "output_type": "display_data"
    },
    {
     "name": "stdout",
     "output_type": "stream",
     "text": [
      "train_acc: 0.9845,  valid_acc = 0.9896\n"
     ]
    },
    {
     "data": {
      "application/vnd.jupyter.widget-view+json": {
       "model_id": "e7d29db6584c4d7ca91c3e8d3efdd139",
       "version_major": 2,
       "version_minor": 0
      },
      "text/plain": [
       "  0%|          | 0/375 [00:00<?, ?it/s]"
      ]
     },
     "metadata": {},
     "output_type": "display_data"
    },
    {
     "data": {
      "application/vnd.jupyter.widget-view+json": {
       "model_id": "81ab6f6b509c47b186abd032fb1d4dbd",
       "version_major": 2,
       "version_minor": 0
      },
      "text/plain": [
       "  0%|          | 0/125 [00:00<?, ?it/s]"
      ]
     },
     "metadata": {},
     "output_type": "display_data"
    },
    {
     "name": "stdout",
     "output_type": "stream",
     "text": [
      "train_acc: 0.9859,  valid_acc = 0.9915\n"
     ]
    },
    {
     "data": {
      "application/vnd.jupyter.widget-view+json": {
       "model_id": "f7328254144a49b5b5f028635f17d628",
       "version_major": 2,
       "version_minor": 0
      },
      "text/plain": [
       "  0%|          | 0/375 [00:00<?, ?it/s]"
      ]
     },
     "metadata": {},
     "output_type": "display_data"
    },
    {
     "data": {
      "application/vnd.jupyter.widget-view+json": {
       "model_id": "125cedf6687e40b4bd637d1fe009f1b8",
       "version_major": 2,
       "version_minor": 0
      },
      "text/plain": [
       "  0%|          | 0/125 [00:00<?, ?it/s]"
      ]
     },
     "metadata": {},
     "output_type": "display_data"
    },
    {
     "name": "stdout",
     "output_type": "stream",
     "text": [
      "train_acc: 0.9865,  valid_acc = 0.9736\n"
     ]
    }
   ],
   "source": [
    "model_lung = models.resnet18(pretrained=True)\n",
    "device = torch.device(0)\n",
    "model_lung.fc = nn.Linear(512, 1, bias=True)\n",
    "model_lung.to(device)\n",
    "\n",
    "lossFun = nn.BCEWithLogitsLoss()\n",
    "\n",
    "params_to_update = []\n",
    "\n",
    "for param in model_lung.parameters():\n",
    "    if param.requires_grad == True:\n",
    "        params_to_update.append(param)\n",
    "        \n",
    "optimizer = optim.AdamW(params_to_update, lr=0.01)\n",
    "\n",
    "tl_bin = []\n",
    "vl_bin = []\n",
    "ta_bin = []\n",
    "va_bin = []\n",
    "num_epochs = 10\n",
    "\n",
    "for i in range(num_epochs):\n",
    "    train_loss, train_acc, valid_loss, valid_acc = one_pass_train_valid(model_lung, train_dl, valid_dl, optimizer, lossFun, class_type='binary', device=device)\n",
    "    print(f\"train_acc: {train_acc:.4f},  valid_acc = {valid_acc:.4f}\")\n",
    "    tl_bin.append(train_loss)\n",
    "    vl_bin.append(valid_loss)\n",
    "    ta_bin.append(train_acc)\n",
    "    va_bin.append(valid_acc)\n",
    "    #model_name = f'models/resnet18/8112021_epoch_{i}_tacc_{train_acc:.3f}_vacc_{valid_acc:.3f}.pkl'\n",
    "    #pickle.dump(model, open(model_name, 'wb'))"
   ]
  },
  {
   "cell_type": "code",
   "execution_count": 20,
   "id": "75508b48-beaf-4414-bad6-54fea29d28f9",
   "metadata": {},
   "outputs": [
    {
     "data": {
      "image/png": "[encoded data removed]",
      "text/plain": [
       "<Figure size 432x288 with 1 Axes>"
      ]
     },
     "metadata": {},
     "output_type": "display_data"
    }
   ],
   "source": [
    "plt.plot(ta_bin, label = 'train')\n",
    "plt.plot(va_bin, label = 'valid')\n",
    "plt.legend()\n",
    "plt.xlabel('Epochs')\n",
    "plt.title('Lung Cancer Presence Accuracy')\n",
    "plt.savefig('figures/lung_cancer_acc.png')"
   ]
  },
  {
   "cell_type": "markdown",
   "id": "3f3b1433-b06f-4407-bff4-07142d53d7e4",
   "metadata": {},
   "source": [
    "## Colon Classifier:"
   ]
  },
  {
   "cell_type": "code",
   "execution_count": 80,
   "id": "2f0fc91a-b7e1-4f85-94d9-968fa7ba8063",
   "metadata": {},
   "outputs": [],
   "source": [
    "train_df, valid_df = train_test_split(df_colon)\n",
    "\n",
    "train_ds = BinCancerImagesDataset(train_df)\n",
    "valid_ds = BinCancerImagesDataset(valid_df)\n",
    "\n",
    "batch_size= 30\n",
    "train_dl = DataLoader(train_ds, batch_size=batch_size, shuffle=True)\n",
    "valid_dl = DataLoader(valid_ds, batch_size=batch_size)"
   ]
  },
  {
   "cell_type": "code",
   "execution_count": 81,
   "id": "aa54c6f4-ec49-4568-83f4-3fd9d1395cc3",
   "metadata": {},
   "outputs": [
    {
     "data": {
      "application/vnd.jupyter.widget-view+json": {
       "model_id": "90ebdb5212eb466aa355009301de4aec",
       "version_major": 2,
       "version_minor": 0
      },
      "text/plain": [
       "  0%|          | 0/250 [00:00<?, ?it/s]"
      ]
     },
     "metadata": {},
     "output_type": "display_data"
    },
    {
     "data": {
      "application/vnd.jupyter.widget-view+json": {
       "model_id": "53ec4129778245ca88ebf4895b3ebacc",
       "version_major": 2,
       "version_minor": 0
      },
      "text/plain": [
       "  0%|          | 0/84 [00:00<?, ?it/s]"
      ]
     },
     "metadata": {},
     "output_type": "display_data"
    },
    {
     "name": "stdout",
     "output_type": "stream",
     "text": [
      "train_acc: 0.7680,  valid_acc = 0.4298\n"
     ]
    },
    {
     "data": {
      "application/vnd.jupyter.widget-view+json": {
       "model_id": "e2a644fed7784cc48bef97922fe5077d",
       "version_major": 2,
       "version_minor": 0
      },
      "text/plain": [
       "  0%|          | 0/250 [00:00<?, ?it/s]"
      ]
     },
     "metadata": {},
     "output_type": "display_data"
    },
    {
     "data": {
      "application/vnd.jupyter.widget-view+json": {
       "model_id": "f9f80203234c444cbc649a63cd25ccb2",
       "version_major": 2,
       "version_minor": 0
      },
      "text/plain": [
       "  0%|          | 0/84 [00:00<?, ?it/s]"
      ]
     },
     "metadata": {},
     "output_type": "display_data"
    },
    {
     "name": "stdout",
     "output_type": "stream",
     "text": [
      "train_acc: 0.8555,  valid_acc = 0.5103\n"
     ]
    },
    {
     "data": {
      "application/vnd.jupyter.widget-view+json": {
       "model_id": "35f3fe88afbf4d88903721b645bfd23f",
       "version_major": 2,
       "version_minor": 0
      },
      "text/plain": [
       "  0%|          | 0/250 [00:00<?, ?it/s]"
      ]
     },
     "metadata": {},
     "output_type": "display_data"
    },
    {
     "data": {
      "application/vnd.jupyter.widget-view+json": {
       "model_id": "2c4202959c2b4ed6aab30c4253767074",
       "version_major": 2,
       "version_minor": 0
      },
      "text/plain": [
       "  0%|          | 0/84 [00:00<?, ?it/s]"
      ]
     },
     "metadata": {},
     "output_type": "display_data"
    },
    {
     "name": "stdout",
     "output_type": "stream",
     "text": [
      "train_acc: 0.8788,  valid_acc = 0.4929\n"
     ]
    },
    {
     "data": {
      "application/vnd.jupyter.widget-view+json": {
       "model_id": "b3fe180d5d2347ceb9cba59a073e4979",
       "version_major": 2,
       "version_minor": 0
      },
      "text/plain": [
       "  0%|          | 0/250 [00:00<?, ?it/s]"
      ]
     },
     "metadata": {},
     "output_type": "display_data"
    },
    {
     "data": {
      "application/vnd.jupyter.widget-view+json": {
       "model_id": "33735d04f28647aea7217e377410dd71",
       "version_major": 2,
       "version_minor": 0
      },
      "text/plain": [
       "  0%|          | 0/84 [00:00<?, ?it/s]"
      ]
     },
     "metadata": {},
     "output_type": "display_data"
    },
    {
     "name": "stdout",
     "output_type": "stream",
     "text": [
      "train_acc: 0.8963,  valid_acc = 0.4151\n"
     ]
    },
    {
     "data": {
      "application/vnd.jupyter.widget-view+json": {
       "model_id": "720256119af74b17bf9a4e6b4b41451f",
       "version_major": 2,
       "version_minor": 0
      },
      "text/plain": [
       "  0%|          | 0/250 [00:00<?, ?it/s]"
      ]
     },
     "metadata": {},
     "output_type": "display_data"
    },
    {
     "data": {
      "application/vnd.jupyter.widget-view+json": {
       "model_id": "8b996ceeda21461b8399a8639dc2665f",
       "version_major": 2,
       "version_minor": 0
      },
      "text/plain": [
       "  0%|          | 0/84 [00:00<?, ?it/s]"
      ]
     },
     "metadata": {},
     "output_type": "display_data"
    },
    {
     "name": "stdout",
     "output_type": "stream",
     "text": [
      "train_acc: 0.9099,  valid_acc = 0.4869\n"
     ]
    },
    {
     "data": {
      "application/vnd.jupyter.widget-view+json": {
       "model_id": "b7c79b2d14cd4f4cb62caaf70d7705c0",
       "version_major": 2,
       "version_minor": 0
      },
      "text/plain": [
       "  0%|          | 0/250 [00:00<?, ?it/s]"
      ]
     },
     "metadata": {},
     "output_type": "display_data"
    },
    {
     "data": {
      "application/vnd.jupyter.widget-view+json": {
       "model_id": "fef03a310ec74440b087447e106226f9",
       "version_major": 2,
       "version_minor": 0
      },
      "text/plain": [
       "  0%|          | 0/84 [00:00<?, ?it/s]"
      ]
     },
     "metadata": {},
     "output_type": "display_data"
    },
    {
     "name": "stdout",
     "output_type": "stream",
     "text": [
      "train_acc: 0.9188,  valid_acc = 0.4909\n"
     ]
    },
    {
     "data": {
      "application/vnd.jupyter.widget-view+json": {
       "model_id": "32f25b3816e0433e9736545aa9d74171",
       "version_major": 2,
       "version_minor": 0
      },
      "text/plain": [
       "  0%|          | 0/250 [00:00<?, ?it/s]"
      ]
     },
     "metadata": {},
     "output_type": "display_data"
    },
    {
     "data": {
      "application/vnd.jupyter.widget-view+json": {
       "model_id": "5417c76514ef4033b6ac86547974f752",
       "version_major": 2,
       "version_minor": 0
      },
      "text/plain": [
       "  0%|          | 0/84 [00:00<?, ?it/s]"
      ]
     },
     "metadata": {},
     "output_type": "display_data"
    },
    {
     "name": "stdout",
     "output_type": "stream",
     "text": [
      "train_acc: 0.9251,  valid_acc = 0.4921\n"
     ]
    },
    {
     "data": {
      "application/vnd.jupyter.widget-view+json": {
       "model_id": "2d1261e74b1a4ca0a93fff5e48eb17fe",
       "version_major": 2,
       "version_minor": 0
      },
      "text/plain": [
       "  0%|          | 0/250 [00:00<?, ?it/s]"
      ]
     },
     "metadata": {},
     "output_type": "display_data"
    },
    {
     "data": {
      "application/vnd.jupyter.widget-view+json": {
       "model_id": "0975d46efe8a4102ad02b2b847c9c6fa",
       "version_major": 2,
       "version_minor": 0
      },
      "text/plain": [
       "  0%|          | 0/84 [00:00<?, ?it/s]"
      ]
     },
     "metadata": {},
     "output_type": "display_data"
    },
    {
     "name": "stdout",
     "output_type": "stream",
     "text": [
      "train_acc: 0.9153,  valid_acc = 0.2615\n"
     ]
    },
    {
     "data": {
      "application/vnd.jupyter.widget-view+json": {
       "model_id": "c697c0fa3fe34dd5a041878bb8b5ce1e",
       "version_major": 2,
       "version_minor": 0
      },
      "text/plain": [
       "  0%|          | 0/250 [00:00<?, ?it/s]"
      ]
     },
     "metadata": {},
     "output_type": "display_data"
    },
    {
     "data": {
      "application/vnd.jupyter.widget-view+json": {
       "model_id": "6198f187663e4a5f9dff9afd72cc4e7a",
       "version_major": 2,
       "version_minor": 0
      },
      "text/plain": [
       "  0%|          | 0/84 [00:00<?, ?it/s]"
      ]
     },
     "metadata": {},
     "output_type": "display_data"
    },
    {
     "name": "stdout",
     "output_type": "stream",
     "text": [
      "train_acc: 0.9241,  valid_acc = 0.4714\n"
     ]
    },
    {
     "data": {
      "application/vnd.jupyter.widget-view+json": {
       "model_id": "b2de0b291ef5495790f47ce687896165",
       "version_major": 2,
       "version_minor": 0
      },
      "text/plain": [
       "  0%|          | 0/250 [00:00<?, ?it/s]"
      ]
     },
     "metadata": {},
     "output_type": "display_data"
    },
    {
     "data": {
      "application/vnd.jupyter.widget-view+json": {
       "model_id": "f2d0a08eb7fa47a291d7a2cfd2d4b8f6",
       "version_major": 2,
       "version_minor": 0
      },
      "text/plain": [
       "  0%|          | 0/84 [00:00<?, ?it/s]"
      ]
     },
     "metadata": {},
     "output_type": "display_data"
    },
    {
     "name": "stdout",
     "output_type": "stream",
     "text": [
      "train_acc: 0.9357,  valid_acc = 0.0913\n"
     ]
    }
   ],
   "source": [
    "model_colon = models.resnet18(pretrained=True)\n",
    "device = torch.device(0)\n",
    "model_colon.fc = nn.Linear(512, 1, bias=True)\n",
    "model_colon.to(device)\n",
    "\n",
    "lossFun = nn.BCEWithLogitsLoss()\n",
    "\n",
    "params_to_update = []\n",
    "\n",
    "for param in model_colon.parameters():\n",
    "    if param.requires_grad == True:\n",
    "        params_to_update.append(param)\n",
    "        \n",
    "optimizer = optim.AdamW(params_to_update, lr=0.01)\n",
    "\n",
    "tl_bin = []\n",
    "vl_bin = []\n",
    "ta_bin = []\n",
    "va_bin = []\n",
    "num_epochs = 10\n",
    "\n",
    "for i in range(num_epochs):\n",
    "    train_loss, train_acc, valid_loss, valid_acc = one_pass_train_valid(model_colon, train_dl, valid_dl, optimizer, lossFun, class_type='binary', device=device)\n",
    "    print(f\"train_acc: {train_acc:.4f},  valid_acc = {valid_acc:.4f}\")\n",
    "    tl_bin.append(train_loss)\n",
    "    vl_bin.append(valid_loss)\n",
    "    ta_bin.append(train_acc)\n",
    "    va_bin.append(valid_acc)"
   ]
  },
  {
   "cell_type": "code",
   "execution_count": 82,
   "id": "0e41a7ff-ae69-4b9c-af2d-ed5ba5956ad8",
   "metadata": {},
   "outputs": [
    {
     "data": {
      "image/png": "[encoded data removed]",
      "text/plain": [
       "<Figure size 432x288 with 1 Axes>"
      ]
     },
     "metadata": {},
     "output_type": "display_data"
    }
   ],
   "source": [
    "plt.plot(ta_bin, label = 'train')\n",
    "plt.plot(va_bin, label = 'valid')\n",
    "plt.legend()\n",
    "plt.xlabel('Epochs')\n",
    "plt.title('Colon Cancer Presence Accuracy')\n",
    "plt.savefig('figures/colon_cancer_acc.png')"
   ]
  },
  {
   "cell_type": "markdown",
   "id": "5ae2af2f-7e77-4ffb-a88b-f1a5f1361754",
   "metadata": {},
   "source": [
    "# Loading Parameters/Model"
   ]
  },
  {
   "cell_type": "code",
   "execution_count": 28,
   "id": "attractive-turning",
   "metadata": {},
   "outputs": [],
   "source": [
    "# # now load them up!\n",
    "# checkpoint = torch.load('model_checkpoint.pt')\n",
    "# model.load_state_dict(checkpoint['model_state_dict'])\n",
    "# optimizer.load_state_dict(checkpoint['optimizer_state_dict'])\n",
    "\n",
    "# load the model from disk\n",
    "# loaded_model = pickle.load(open(filename, 'rb'))"
   ]
  },
  {
   "cell_type": "code",
   "execution_count": 28,
   "id": "a4f451cf-8769-44e6-8548-bb1a36f0113f",
   "metadata": {},
   "outputs": [
    {
     "name": "stdout",
     "output_type": "stream",
     "text": [
      "/home/oniemann/Cancer_Classifier\n"
     ]
    }
   ],
   "source": [
    "!pwd"
   ]
  },
  {
   "cell_type": "code",
   "execution_count": null,
   "id": "a81db6b8-2093-4032-b763-430820c8c352",
   "metadata": {},
   "outputs": [],
   "source": []
  }
 ],
 "metadata": {
  "kernelspec": {
   "display_name": "deep_learning",
   "language": "python",
   "name": "deep_learning"
  },
  "language_info": {
   "codemirror_mode": {
    "name": "ipython",
    "version": 3
   },
   "file_extension": ".py",
   "mimetype": "text/x-python",
   "name": "python",
   "nbconvert_exporter": "python",
   "pygments_lexer": "ipython3",
   "version": "3.6.8"
  }
 },
 "nbformat": 4,
 "nbformat_minor": 5
}
